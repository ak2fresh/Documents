{
 "cells": [
  {
   "cell_type": "markdown",
   "metadata": {},
   "source": [
    "<hr/>\n",
    "\n",
    "# Data Mining\n",
    "\n",
    "<hr/>"
   ]
  },
  {
   "cell_type": "markdown",
   "metadata": {},
   "source": [
    "<h2><font color=\"darkblue\">Exam 1</font></h2>\n",
    "\n",
    "#### Deadline\n",
    "Submit by 1:15pm on Blackboard. Don't wait till the last minute!\n",
    "\n",
    "####  Work alone!\n",
    "Feel free to use the lecture notes and other resources but work on your own!  "
   ]
  },
  {
   "cell_type": "code",
   "execution_count": 1,
   "metadata": {},
   "outputs": [
    {
     "name": "stdout",
     "output_type": "stream",
     "text": [
      "Populating the interactive namespace from numpy and matplotlib\n"
     ]
    }
   ],
   "source": [
    "%pylab inline"
   ]
  },
  {
   "cell_type": "markdown",
   "metadata": {},
   "source": [
    "### Problem 1\n",
    "\n",
    "Analyze the attached datasets using simple descriptive statistics; discuss their similarities and differences.\n",
    "\n",
    "1. Run the code snipet below and look at the output (1 pt)\n",
    "0. Understand and provide meaningful comments for each line (4 pts)\n",
    "0. Calculate these quantities for each dataset (2 pts)\n",
    "0. Make plots of these datasets (2 pts)\n",
    "0. Summarize the results with your own words (2 pts)\n",
    "\n",
    "Total of 11 points"
   ]
  },
  {
   "cell_type": "code",
   "execution_count": 2,
   "metadata": {},
   "outputs": [
    {
     "name": "stdout",
     "output_type": "stream",
     "text": [
      "[[9.        ]\n",
      " [7.50090909]]\n",
      "[[11.          5.501     ]\n",
      " [ 5.501       4.12726909]]\n"
     ]
    },
    {
     "data": {
      "text/html": [
       "<div>\n",
       "<style scoped>\n",
       "    .dataframe tbody tr th:only-of-type {\n",
       "        vertical-align: middle;\n",
       "    }\n",
       "\n",
       "    .dataframe tbody tr th {\n",
       "        vertical-align: top;\n",
       "    }\n",
       "\n",
       "    .dataframe thead th {\n",
       "        text-align: right;\n",
       "    }\n",
       "</style>\n",
       "<table border=\"1\" class=\"dataframe\">\n",
       "  <thead>\n",
       "    <tr style=\"text-align: right;\">\n",
       "      <th></th>\n",
       "      <th>x</th>\n",
       "      <th>y</th>\n",
       "    </tr>\n",
       "  </thead>\n",
       "  <tbody>\n",
       "    <tr>\n",
       "      <th>0</th>\n",
       "      <td>10.0</td>\n",
       "      <td>8.04</td>\n",
       "    </tr>\n",
       "    <tr>\n",
       "      <th>1</th>\n",
       "      <td>8.0</td>\n",
       "      <td>6.95</td>\n",
       "    </tr>\n",
       "    <tr>\n",
       "      <th>2</th>\n",
       "      <td>13.0</td>\n",
       "      <td>7.58</td>\n",
       "    </tr>\n",
       "    <tr>\n",
       "      <th>3</th>\n",
       "      <td>9.0</td>\n",
       "      <td>8.81</td>\n",
       "    </tr>\n",
       "    <tr>\n",
       "      <th>4</th>\n",
       "      <td>11.0</td>\n",
       "      <td>8.33</td>\n",
       "    </tr>\n",
       "    <tr>\n",
       "      <th>5</th>\n",
       "      <td>14.0</td>\n",
       "      <td>9.96</td>\n",
       "    </tr>\n",
       "    <tr>\n",
       "      <th>6</th>\n",
       "      <td>6.0</td>\n",
       "      <td>7.24</td>\n",
       "    </tr>\n",
       "    <tr>\n",
       "      <th>7</th>\n",
       "      <td>4.0</td>\n",
       "      <td>4.26</td>\n",
       "    </tr>\n",
       "    <tr>\n",
       "      <th>8</th>\n",
       "      <td>12.0</td>\n",
       "      <td>10.84</td>\n",
       "    </tr>\n",
       "    <tr>\n",
       "      <th>9</th>\n",
       "      <td>7.0</td>\n",
       "      <td>4.82</td>\n",
       "    </tr>\n",
       "    <tr>\n",
       "      <th>10</th>\n",
       "      <td>5.0</td>\n",
       "      <td>5.68</td>\n",
       "    </tr>\n",
       "  </tbody>\n",
       "</table>\n",
       "</div>"
      ],
      "text/plain": [
       "       x      y\n",
       "0   10.0   8.04\n",
       "1    8.0   6.95\n",
       "2   13.0   7.58\n",
       "3    9.0   8.81\n",
       "4   11.0   8.33\n",
       "5   14.0   9.96\n",
       "6    6.0   7.24\n",
       "7    4.0   4.26\n",
       "8   12.0  10.84\n",
       "9    7.0   4.82\n",
       "10   5.0   5.68"
      ]
     },
     "execution_count": 2,
     "metadata": {},
     "output_type": "execute_result"
    }
   ],
   "source": [
    "import pandas as pd # Import pandas to get our data\n",
    "\n",
    "df1 = pd.read_csv('E1-Problem1-I.csv') # Load data from E1-Problem1-I.csv and save as df1\n",
    "df2 = pd.read_csv('E1-Problem1-II.csv')# Load data from E1-Problem1-II.csv and save as df2\n",
    "df3 = pd.read_csv('E1-Problem1-III.csv')# Load data from E1-Problem1-III.csv and save as df3\n",
    "\n",
    "V = df1.values.T # transfer df1 into matrix, i.e. list of lists\n",
    "m = V.mean(axis=1) # calculate the row mean of V, or df1\n",
    "m = m[:,np.newaxis] # make m become a row vector\n",
    "\n",
    "M = V - m # Centering the data, i.e. M = m - mean(m)\n",
    "C = M.dot(M.T) / (M.shape[1] - 1) # calculate the covariance matrxi of df1\n",
    "print (m) # show mean of df1\n",
    "print (C) # show covariance matrix of df1\n",
    "df1 # show df1"
   ]
  },
  {
   "cell_type": "markdown",
   "metadata": {},
   "source": [
    "#### Problem 1.3\n",
    "Calculate these quantities for each dataset (2 pts)"
   ]
  },
  {
   "cell_type": "code",
   "execution_count": 3,
   "metadata": {},
   "outputs": [
    {
     "name": "stdout",
     "output_type": "stream",
     "text": [
      "mean of df3 is \n",
      " [[9.        ]\n",
      " [7.50090909]]\n",
      "Covariance matrix of df3 is\n",
      " [[11.          5.5       ]\n",
      " [ 5.5         4.12762909]]\n"
     ]
    },
    {
     "name": "stderr",
     "output_type": "stream",
     "text": [
      "/Users/AkilanMeiyappan/anaconda3/lib/python3.7/site-packages/ipykernel_launcher.py:2: FutureWarning: Method .as_matrix will be removed in a future version. Use .values instead.\n",
      "  \n"
     ]
    },
    {
     "data": {
      "text/html": [
       "<div>\n",
       "<style scoped>\n",
       "    .dataframe tbody tr th:only-of-type {\n",
       "        vertical-align: middle;\n",
       "    }\n",
       "\n",
       "    .dataframe tbody tr th {\n",
       "        vertical-align: top;\n",
       "    }\n",
       "\n",
       "    .dataframe thead th {\n",
       "        text-align: right;\n",
       "    }\n",
       "</style>\n",
       "<table border=\"1\" class=\"dataframe\">\n",
       "  <thead>\n",
       "    <tr style=\"text-align: right;\">\n",
       "      <th></th>\n",
       "      <th>x</th>\n",
       "      <th>y</th>\n",
       "    </tr>\n",
       "  </thead>\n",
       "  <tbody>\n",
       "    <tr>\n",
       "      <th>0</th>\n",
       "      <td>10.0</td>\n",
       "      <td>9.14</td>\n",
       "    </tr>\n",
       "    <tr>\n",
       "      <th>1</th>\n",
       "      <td>8.0</td>\n",
       "      <td>8.14</td>\n",
       "    </tr>\n",
       "    <tr>\n",
       "      <th>2</th>\n",
       "      <td>13.0</td>\n",
       "      <td>8.74</td>\n",
       "    </tr>\n",
       "    <tr>\n",
       "      <th>3</th>\n",
       "      <td>9.0</td>\n",
       "      <td>8.77</td>\n",
       "    </tr>\n",
       "    <tr>\n",
       "      <th>4</th>\n",
       "      <td>11.0</td>\n",
       "      <td>9.26</td>\n",
       "    </tr>\n",
       "    <tr>\n",
       "      <th>5</th>\n",
       "      <td>14.0</td>\n",
       "      <td>8.10</td>\n",
       "    </tr>\n",
       "    <tr>\n",
       "      <th>6</th>\n",
       "      <td>6.0</td>\n",
       "      <td>6.13</td>\n",
       "    </tr>\n",
       "    <tr>\n",
       "      <th>7</th>\n",
       "      <td>4.0</td>\n",
       "      <td>3.10</td>\n",
       "    </tr>\n",
       "    <tr>\n",
       "      <th>8</th>\n",
       "      <td>12.0</td>\n",
       "      <td>9.13</td>\n",
       "    </tr>\n",
       "    <tr>\n",
       "      <th>9</th>\n",
       "      <td>7.0</td>\n",
       "      <td>7.26</td>\n",
       "    </tr>\n",
       "    <tr>\n",
       "      <th>10</th>\n",
       "      <td>5.0</td>\n",
       "      <td>4.74</td>\n",
       "    </tr>\n",
       "  </tbody>\n",
       "</table>\n",
       "</div>"
      ],
      "text/plain": [
       "       x     y\n",
       "0   10.0  9.14\n",
       "1    8.0  8.14\n",
       "2   13.0  8.74\n",
       "3    9.0  8.77\n",
       "4   11.0  9.26\n",
       "5   14.0  8.10\n",
       "6    6.0  6.13\n",
       "7    4.0  3.10\n",
       "8   12.0  9.13\n",
       "9    7.0  7.26\n",
       "10   5.0  4.74"
      ]
     },
     "execution_count": 3,
     "metadata": {},
     "output_type": "execute_result"
    }
   ],
   "source": [
    "# df2\n",
    "V2 = df2.as_matrix().T \n",
    "m2 = V2.mean(axis=1) # calculate the row mean of V2, or df2\n",
    "m2 = m2[:,np.newaxis] \n",
    "\n",
    "M2 = V2 - m2 \n",
    "C2 = M2.dot(M2.T) / (M2.shape[1] - 1) # calculate the covariance matrxi of df2\n",
    "print (\"mean of df3 is \\n\",m2) # show mean of df2\n",
    "print (\"Covariance matrix of df3 is\\n\",C2) # show covariance matrix of df2\n",
    "df2"
   ]
  },
  {
   "cell_type": "code",
   "execution_count": 4,
   "metadata": {},
   "outputs": [
    {
     "name": "stdout",
     "output_type": "stream",
     "text": [
      "mean of df3 is \n",
      " [[9. ]\n",
      " [7.5]]\n",
      "Covariance matrix of df3 is\n",
      " [[11.       5.497  ]\n",
      " [ 5.497    4.12262]]\n"
     ]
    },
    {
     "name": "stderr",
     "output_type": "stream",
     "text": [
      "/Users/AkilanMeiyappan/anaconda3/lib/python3.7/site-packages/ipykernel_launcher.py:2: FutureWarning: Method .as_matrix will be removed in a future version. Use .values instead.\n",
      "  \n"
     ]
    },
    {
     "data": {
      "text/html": [
       "<div>\n",
       "<style scoped>\n",
       "    .dataframe tbody tr th:only-of-type {\n",
       "        vertical-align: middle;\n",
       "    }\n",
       "\n",
       "    .dataframe tbody tr th {\n",
       "        vertical-align: top;\n",
       "    }\n",
       "\n",
       "    .dataframe thead th {\n",
       "        text-align: right;\n",
       "    }\n",
       "</style>\n",
       "<table border=\"1\" class=\"dataframe\">\n",
       "  <thead>\n",
       "    <tr style=\"text-align: right;\">\n",
       "      <th></th>\n",
       "      <th>x</th>\n",
       "      <th>y</th>\n",
       "    </tr>\n",
       "  </thead>\n",
       "  <tbody>\n",
       "    <tr>\n",
       "      <th>0</th>\n",
       "      <td>10.0</td>\n",
       "      <td>7.46</td>\n",
       "    </tr>\n",
       "    <tr>\n",
       "      <th>1</th>\n",
       "      <td>8.0</td>\n",
       "      <td>6.77</td>\n",
       "    </tr>\n",
       "    <tr>\n",
       "      <th>2</th>\n",
       "      <td>13.0</td>\n",
       "      <td>12.74</td>\n",
       "    </tr>\n",
       "    <tr>\n",
       "      <th>3</th>\n",
       "      <td>9.0</td>\n",
       "      <td>7.11</td>\n",
       "    </tr>\n",
       "    <tr>\n",
       "      <th>4</th>\n",
       "      <td>11.0</td>\n",
       "      <td>7.81</td>\n",
       "    </tr>\n",
       "    <tr>\n",
       "      <th>5</th>\n",
       "      <td>14.0</td>\n",
       "      <td>8.84</td>\n",
       "    </tr>\n",
       "    <tr>\n",
       "      <th>6</th>\n",
       "      <td>6.0</td>\n",
       "      <td>6.08</td>\n",
       "    </tr>\n",
       "    <tr>\n",
       "      <th>7</th>\n",
       "      <td>4.0</td>\n",
       "      <td>5.39</td>\n",
       "    </tr>\n",
       "    <tr>\n",
       "      <th>8</th>\n",
       "      <td>12.0</td>\n",
       "      <td>8.15</td>\n",
       "    </tr>\n",
       "    <tr>\n",
       "      <th>9</th>\n",
       "      <td>7.0</td>\n",
       "      <td>6.42</td>\n",
       "    </tr>\n",
       "    <tr>\n",
       "      <th>10</th>\n",
       "      <td>5.0</td>\n",
       "      <td>5.73</td>\n",
       "    </tr>\n",
       "  </tbody>\n",
       "</table>\n",
       "</div>"
      ],
      "text/plain": [
       "       x      y\n",
       "0   10.0   7.46\n",
       "1    8.0   6.77\n",
       "2   13.0  12.74\n",
       "3    9.0   7.11\n",
       "4   11.0   7.81\n",
       "5   14.0   8.84\n",
       "6    6.0   6.08\n",
       "7    4.0   5.39\n",
       "8   12.0   8.15\n",
       "9    7.0   6.42\n",
       "10   5.0   5.73"
      ]
     },
     "execution_count": 4,
     "metadata": {},
     "output_type": "execute_result"
    }
   ],
   "source": [
    "#df3\n",
    "V3 = df3.as_matrix().T \n",
    "m3 = V3.mean(axis=1) # calculate the row mean of V3, or df3\n",
    "m3 = m3[:,np.newaxis] \n",
    "M3 = V3 - m3 \n",
    "C3 = M3.dot(M3.T) / (M3.shape[1] - 1) # calculate the covariance matrxi of df3\n",
    "print (\"mean of df3 is \\n\",m3) # show mean of df3\n",
    "print (\"Covariance matrix of df3 is\\n\",C3) # show covariance matrix of df3\n",
    "df3"
   ]
  },
  {
   "cell_type": "markdown",
   "metadata": {},
   "source": [
    "#### Problem 1.4\n",
    "Make plots of these datasets (2 pts)"
   ]
  },
  {
   "cell_type": "code",
   "execution_count": 5,
   "metadata": {},
   "outputs": [
    {
     "data": {
      "text/plain": [
       "<matplotlib.legend.Legend at 0x11cc7edd8>"
      ]
     },
     "execution_count": 5,
     "metadata": {},
     "output_type": "execute_result"
    },
    {
     "data": {
      "image/png": "[encoded data removed]",
      "text/plain": [
       "<Figure size 432x288 with 1 Axes>"
      ]
     },
     "metadata": {
      "needs_background": "light"
     },
     "output_type": "display_data"
    }
   ],
   "source": [
    "plt.plot(V[0,:],V[1,:],'ro',V2[0,:],V2[1,:],'bx',V3[0,:],V3[1,:],'g*', )\n",
    "legend(['df1','df2','df3'])"
   ]
  },
  {
   "cell_type": "markdown",
   "metadata": {},
   "source": [
    "#### Problem1.5\n",
    "Summarize the results with your own words (2 pts)\n",
    "#### Answer: \n",
    "For these three datasets, although the data in different datasets are quiet different, they have the almost same mean for each column, that is \\[9.0, 7.5\\], and very close covariance matrix, which is around\n",
    "\\begin{bmatrix}\n",
    "    11.0       & 5.5\\\\\n",
    "    5.5      & 4.13 \\\\\n",
    "\\end{bmatrix}\n",
    "Also, we can read that result from the plot. The data from different datasets have almost same tendency, although df1 is more like randomly distributed around df3 and df2 shows like a quadratic function and df3 have the neat data with only one outlier."
   ]
  },
  {
   "cell_type": "code",
   "execution_count": null,
   "metadata": {},
   "outputs": [],
   "source": []
  },
  {
   "cell_type": "markdown",
   "metadata": {},
   "source": [
    "### Problem 2\n",
    "\n",
    "The attached [CSV](E1-Problem2.csv) file contains a number measurements. Considering that the measurements are expensive to perform, a student decided to estimate the relation of the two quantities and estimate the missing measurements.\n",
    "\n",
    "1. Run and comment the code (3 pts)\n",
    "0. Describe the method that the program implements and the underlying assumptions (2 pts)\n",
    "0. What is the family of functions the student considered? What is the formula? (2 pts) \n",
    "0. What would be a better formula to use and why? (2 pts)\n",
    "0. Change the code to implement your proposal and rerun the analysis (3 pts)\n",
    "0. What value of *n* would be your preference and why? (2 pts)\n",
    "\n",
    "Total of 14 points"
   ]
  },
  {
   "cell_type": "code",
   "execution_count": 8,
   "metadata": {},
   "outputs": [
    {
     "data": {
      "image/png": "[encoded data removed]",
      "text/plain": [
       "<Figure size 864x576 with 1 Axes>"
      ]
     },
     "metadata": {
      "needs_background": "light"
     },
     "output_type": "display_data"
    }
   ],
   "source": [
    "df = pd.read_csv(\"E1-Problem2.csv\") # read data from E1-Problem2.csv and saved as df\n",
    "plt.figure(figsize=(12,8)) # set the figure size\n",
    "#plt.scatter(df.x, df.y, c='k', label='data') # draw the scatter picture, df.x as x axis and df.y as y.axis, color is black, lable name is \"data\"\n",
    "\n",
    "def ser(x, n): # define a function named ser which has two variables, x and n\n",
    "    X = np.ones( (x.size, n+1) ) # X is the one matrix with size of x rows and  n+1 colnums\n",
    "    for i in range(1, n+1): # for loop from 1 to n\n",
    "        X[:,i] = np.cos(i * x) # the i th colnum = cos(i*x)\n",
    "    return X # return X\n",
    "    \n",
    "xmin, xmax = df.x.min(), df.x.max() # calculate the min and max of df.x\n",
    "x = np.linspace(xmin-1, xmax+1, 100)  # divide [xmin-1, xmax+1] evenly into 100 segement saved as x\n",
    "\n",
    "for n in range(1,7): # for loop, n from 1 to 6\n",
    "    X = ser(df.x, n) #  call the function ser with x=df.x and n=n\n",
    "    b = np.linalg.inv(X.T.dot(X)).dot(X.T).dot(df.y) # using least square to estimate the coffeicient\n",
    "    mse = np.square(X.dot(b)-df.y).mean() # calculatet the Mean squared error\n",
    "    y = ser(x,n).dot(b) # generate the predicted value\n",
    "    plt.plot(x, y, '-', label=mse); # plot the prediction\n",
    "    \n",
    "plt.ylim(-10,15) # set y axis from -10 to 15\n",
    "plt.legend(); # show the legend"
   ]
  },
  {
   "cell_type": "markdown",
   "metadata": {},
   "source": [
    "#### Problem2.2\n",
    "Describe the method that the program implements and the underlying assumptions (2 pts)\n",
    "#### Answer: \n",
    "This method use the linear combination of some kind of function to approximate the data, and form a model. The assumption is the data show some kind of pattern, and we could use the function we have to approxmiate it."
   ]
  },
  {
   "cell_type": "markdown",
   "metadata": {},
   "source": [
    "#### Problem 2.3\n",
    "What is the family of functions the student considered? What is the formula? (2 pts)\n",
    "#### Answer:\n",
    "In this problem, the student use the cosine function, and formula is $\\displaystyle y = \\beta_0+\\Sigma_{k=1}^n\\beta_k cos(kx)$  \n"
   ]
  },
  {
   "cell_type": "markdown",
   "metadata": {},
   "source": [
    "#### Problem 2.4\n",
    "What would be a better formula to use and why? (2 pts)\n",
    "#### Answer:\n",
    "Using Polynomial function will be better, since the data shows no sign of Periodic."
   ]
  },
  {
   "cell_type": "markdown",
   "metadata": {},
   "source": [
    "#### Problem 2.5\n",
    "Change the code to implement your proposal and rerun the analysis (3 pts)\n",
    "#### Answer:"
   ]
  },
  {
   "cell_type": "code",
   "execution_count": 7,
   "metadata": {},
   "outputs": [
    {
     "data": {
      "image/png": "[encoded data removed]",
      "text/plain": [
       "<Figure size 864x576 with 1 Axes>"
      ]
     },
     "metadata": {
      "needs_background": "light"
     },
     "output_type": "display_data"
    }
   ],
   "source": [
    "plt.figure(figsize=(12,8)) # set the figure size\n",
    "plt.scatter(df.x, df.y, c='k', label='data') # draw the scatter picture, df.x as x axis and df.y as y.axis, color is black, lable name is \"data\"\n",
    "def poly(x,n):\n",
    "    X = np.zeros((x.size,n+1));\n",
    "    for i in range(X.shape[1]):\n",
    "        X[:,i] = x**i\n",
    "    return X\n",
    "    \n",
    "xmin, xmax = df.x.min(), df.x.max() # calculate the min and max of df.x\n",
    "x = np.linspace(xmin-1, xmax+1, 100)  # divide [xmin-1, xmax+1] evenly into 100 segement saved as x\n",
    "\n",
    "for n in range(1,7): # for loop, n from 1 to 6\n",
    "    X = poly(df.x, n) #  call the function ser with x=df.x and n=n\n",
    "    b = np.linalg.inv(X.T.dot(X)).dot(X.T).dot(df.y) # using least square to estimate the coffeicient\n",
    "    mse = np.square(X.dot(b)-df.y).mean() # calculatet the Mean squared error\n",
    "    y = poly(x,n).dot(b) # generate the predicted value\n",
    "    plt.plot(x, y, '-', label=mse); # plot the prediction\n",
    "    \n",
    "plt.ylim(-10,15) # set y axis from -10 to 15\n",
    "plt.legend(['1','2','3','4','5','6','7']); # show the legend\n",
    "#plt.legend()"
   ]
  },
  {
   "cell_type": "markdown",
   "metadata": {},
   "source": [
    "#### Problem 2.6\n",
    "What value of n would be your preference and why? (2 pts)\n",
    "#### Answer:\n",
    "I will use n = 3, since when n >= 3, they have almost the same performance, and therefore, we choose the model with the mininum number of variables, which is n = 3"
   ]
  },
  {
   "cell_type": "code",
   "execution_count": null,
   "metadata": {},
   "outputs": [],
   "source": []
  }
 ],
 "metadata": {
  "kernelspec": {
   "display_name": "Python 3",
   "language": "python",
   "name": "python3"
  },
  "language_info": {
   "codemirror_mode": {
    "name": "ipython",
    "version": 3
   },
   "file_extension": ".py",
   "mimetype": "text/x-python",
   "name": "python",
   "nbconvert_exporter": "python",
   "pygments_lexer": "ipython3",
   "version": "3.7.3"
  }
 },
 "nbformat": 4,
 "nbformat_minor": 4
}

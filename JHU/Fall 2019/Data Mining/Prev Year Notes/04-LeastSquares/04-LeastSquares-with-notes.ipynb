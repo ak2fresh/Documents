{
 "cells": [
  {
   "cell_type": "markdown",
   "metadata": {
    "slideshow": {
     "slide_type": "slide"
    }
   },
   "source": [
    "<hr/>\n",
    "\n",
    "# Data Mining\n",
    "**Tamás Budavári** - budavari@jhu.edu <br/>\n",
    "**Class 4** \n",
    "\n",
    "- Dependence and correlations\n",
    "- Sampling from Gaussians \n",
    "- Method of Least Squares\n",
    "\n",
    "<hr/>"
   ]
  },
  {
   "cell_type": "code",
   "execution_count": 1,
   "metadata": {},
   "outputs": [
    {
     "name": "stdout",
     "output_type": "stream",
     "text": [
      "Populating the interactive namespace from numpy and matplotlib\n"
     ]
    }
   ],
   "source": [
    "%pylab inline"
   ]
  },
  {
   "cell_type": "markdown",
   "metadata": {
    "slideshow": {
     "slide_type": "slide"
    }
   },
   "source": [
    "<h1><font color=\"darkblue\">Bivariate and Multivariate</font></h1>\n",
    "<hr/>"
   ]
  },
  {
   "cell_type": "markdown",
   "metadata": {},
   "source": [
    "### Dependence\n",
    "- Consider two random variables $X$, $Y\\in\\mathbb{R}$\n",
    "\n",
    "> We can look at them separately but ...\n",
    ">\n",
    "> Are they \"related\" at all?\n",
    "\n",
    "- Dependent variables\n",
    "\n",
    ">$\\displaystyle P(X, Y) \\neq P(X)\\,P(Y)$ \n",
    "> \n",
    ">More on this later..."
   ]
  },
  {
   "cell_type": "markdown",
   "metadata": {},
   "source": [
    "### Covariance\n",
    "\n",
    "- Definition \n",
    "\n",
    ">$\\displaystyle \\mathbb{Cov}[X,Y]=\\mathbb{E}\\Big[\\big(X-\\mathbb{E}[X]\\big)\\big(Y-\\mathbb{E}[Y]\\big)\\Big]$  \n",
    ">\n",
    "> Other notations: $\\mathrm{C}_{X,Y}$, $\\sigma(X,Y)$, ...\n",
    "\n",
    "- Sample covariance\n",
    "\n",
    ">$\\displaystyle C = \\frac{1}{N\\!-\\!1}\\sum_{i=1}^N (x_i-\\bar{x})(y_i-\\bar{y})$\n",
    "\n",
    "> In order to have an unbised estiamte, the denominator is $N-1$ rather than $N$. The reason is due to a variant of **Bessel's correction**: In short, the sample covariance relies on the difference between each observation and the sample mean, but the sample mean is slightly correlated with each observation since it is defined in terms of all observations."
   ]
  },
  {
   "cell_type": "markdown",
   "metadata": {},
   "source": [
    "### Quiz\n",
    "\n",
    "1) If $X$ and $Y$ are independent, are they also uncorrelated?\n",
    "\n",
    "        [ ] Yes      [ ] No\n",
    "        \n",
    "2) If $X$ and $Y$ are uncorrelated, are they also independent?\n",
    "\n",
    "        [ ] Yes      [ ] No"
   ]
  },
  {
   "cell_type": "markdown",
   "metadata": {},
   "source": [
    "### Answers\n",
    "\n",
    "1) If $X$ and $Y$ are independent, are they also uncorrelated?\n",
    "\n",
    "        [x] Yes      [ ] No\n",
    "\n",
    "> By independence we have \n",
    ">\n",
    "> $ \\mathbb{E}[XY]=\\mathbb{E}[X]\\ \\mathbb{E}[Y]$\n",
    ">\n",
    "> Recall the [linearity of the expectation](https://en.wikipedia.org/wiki/Expected_value#Linearity), we have\n",
    ">\n",
    "> $ \\mathbb{E}[aX+bY]=a \\mathbb{E}[X] + b \\mathbb{E}[Y]$\n",
    ">\n",
    "> Let $ \\mathbb{E}[X] = \\mu_X $ and $ \\mathbb{E}[Y] = \\mu_Y $, then we have the covariance as\n",
    ">\n",
    ">$ \\mathbb{E}[ (X\\!-\\!\\mu_X)(Y\\!-\\!\\mu_Y) ] = \\mathbb{E}[ XY - X \\mu_y - \\mu_X Y  + \\mu_X\\mu_Y] = \\mathbb{E}[ XY ] -\\mu_Y \\mathbb{E}[X] - \\mu_X \\mathbb{E}[Y]  + \\mu_X\\mu_Y = 0$"
   ]
  },
  {
   "cell_type": "markdown",
   "metadata": {},
   "source": [
    "2) If $X$ and $Y$ are uncorrelated, are they also independent?\n",
    "\n",
    "        [ ] Yes      [x] No\n",
    "\n",
    "\n",
    "> For example, let random variable $X$ have a normal distribution, $X\\sim{}{\\cal{}N}(0,1)$, and let $Y=X^2$. They are clearly dependent.\n",
    ">\n",
    "> Recall that the Skewness of normal is 0 (c.f. Lecutre Note 02 and [here](https://en.wikipedia.org/wiki/Normal_distribution)), i.e.\n",
    ">\n",
    "> $\\displaystyle \\mathbb{E}\\left[\\left(\\frac{X\\!-\\!\\mu}{\\sigma}\\right)^3\\right] = \\mathbb{E}\\left[\\left(\\frac{X\\!-\\!0}{1}\\right)^3\\right] = \\mathbb{E}[X^3] = 0 $\n",
    ">\n",
    "> Then we have\n",
    ">\n",
    ">$\\mathbb{E}[ (X\\!-\\!0)(X^2\\!-\\!\\mu_{X^2}) ] = \\mathbb{E}[X^3-X\\,\\mu_{X^2}] $ $= \\mathbb{E}[X^3] - \\mathbb{E}[X]\\,\\mu_{X^2} = 0 - 0 = 0 $ "
   ]
  },
  {
   "cell_type": "markdown",
   "metadata": {},
   "source": [
    "**Rule of thumb**: in general, zero correlation dose **NOT** imply independence\n",
    "\n",
    "**More intuition**: correlation meausres **linear** assoiaiton between two given random variables and it has no obligation to detect any other form of associaiton. Since two random variables could be associated in non-linear ways (such as $X$ vs. $X^2$ in the above case) and correlation could not distinguish from indepdendent case."
   ]
  },
  {
   "cell_type": "markdown",
   "metadata": {},
   "source": [
    "### More Examples about Correlation \n",
    "\n",
    "- How it could look like for different correlation\n",
    "\n",
    "<img src=\"files/600px-Correlation_examples2.svg.png\" width=500 align=\"left\">\n",
    "\n"
   ]
  },
  {
   "cell_type": "markdown",
   "metadata": {},
   "source": [
    "### Vector Notation\n",
    "\n",
    "- Let $\\boldsymbol{V}$ represent the 2-vector of random scalar variables $X$ and $Y$\n",
    "\n",
    ">$\\boldsymbol{V} = \\begin{pmatrix}X\\\\Y\\end{pmatrix}$\n",
    "\n",
    "- Mean\n",
    "\n",
    ">$\\displaystyle \\mathbb{E}[\\boldsymbol{V}] = \\begin{pmatrix}\\mathbb{E}[X]\\\\\\mathbb{E}[Y]\\end{pmatrix} = \\begin{pmatrix}\\mu_X\\\\\\mu_Y\\end{pmatrix}$\n",
    "\n",
    "- Covariance matrix\n",
    "\n",
    ">$\\displaystyle \\Sigma(\\boldsymbol{V}) = \\mathbb{E}\\Big[\\big(\\boldsymbol{V}\\!-\\!\\mathbb{E}[\\boldsymbol{V}]\\big)\\big(\\boldsymbol{V}\\!-\\!\\mathbb{E}[\\boldsymbol{V}]\\big)^T\\Big]$ $ = \\left( \\begin{array}{ccc}\n",
    "\\sigma_X^2 & \\mathrm{C}_{X,Y}  \\\\\n",
    "\\mathrm{C}_{Y,X} & \\sigma_Y^2  \\end{array} \\right) = \\left( \\begin{array}{ccc}\n",
    "\\sigma_X^2 & \\mathrm{C}_{X,Y}  \\\\\n",
    "\\mathrm{C}_{X,Y} & \\sigma_Y^2  \\end{array} \\right)$\n",
    ">\n",
    "> where $ \\mathrm{C}_{X,Y} = \\mathrm{C}_{Y,X} = \\mathbb{E}[(X-\\mathbb{E}[X])(Y-\\mathbb{E}[Y])]$. Same generalization of variance works in any dimensions."
   ]
  },
  {
   "cell_type": "markdown",
   "metadata": {},
   "source": [
    "### Bivariate Normal Distribution\n",
    "- Independent and uncorrelated\n",
    "\n",
    ">$ \\displaystyle {\\cal N}(x,y;\\mu_x,\\mu_y,\\sigma_x,\\sigma_y) = \\frac{1}{2 \\pi \\sigma_x \\sigma_y}\\ \\exp\\left[-\\frac{(x\\!-\\!\\mu_x)^2}{2\\sigma_x^2} -\\frac{(y\\!-\\!\\mu_y)^2}{2\\sigma_y^2} \\right] $\n",
    "\n",
    "- In general for 2-vector $\\boldsymbol{x}$\n",
    "\n",
    ">$ \\displaystyle{\\cal N}(\\boldsymbol{x};\\boldsymbol{\\mu},\\Sigma) = \\frac{1}{2\\pi \\lvert \\Sigma \\rvert^{\\frac{1}{2}} }\\ \\exp\\left[-\\frac{1}{2} (\\boldsymbol{x}\\!-\\!\\boldsymbol{\\mu})^T \\Sigma^{-1} (\\boldsymbol{x}\\!-\\!\\boldsymbol{\\mu})\\right]$\n",
    ">\n",
    "> where $\\lvert \\Sigma \\rvert$ is the determinant - other notation $\\det\\Sigma$ or $\\det\\!\\left(\\Sigma\\right)$\n",
    "\n",
    "- Uncorrelated if\n",
    "\n",
    ">$ \\displaystyle \\Sigma = \\left( \\begin{array}{ccc}\n",
    "\\sigma_X^2 & 0  \\\\\n",
    "0 & \\sigma_Y^2  \\end{array} \\right)$\n",
    "\n",
    "- **Exception**: If two random variables are **jointly** normally distributed, i.e., bivariate normal distribution, zero correlation implies independence. Note that two random variables that are both marginally normally distributed **DO NOT** imply they are jointly normally distributed."
   ]
  },
  {
   "cell_type": "markdown",
   "metadata": {},
   "source": [
    "### Multivariate Normal Distribution\n",
    "\n",
    "- In $k$ dimensions - not bold but $k$-vectors\n",
    "\n",
    "\n",
    ">$ \\displaystyle{\\cal N}(x;\\mu,\\Sigma) = \\frac{1}{\\sqrt{(2\\pi)^{k} \\lvert \\Sigma \\rvert} }\\ \\exp\\left[-\\frac{1}{2} (x\\!-\\!\\mu)^T \\Sigma^{-1} (x\\!-\\!\\mu)\\right]$\n",
    "\n",
    "- [More information on multivariate normal distribution](https://en.wikipedia.org/wiki/Multivariate_normal_distribution)"
   ]
  },
  {
   "cell_type": "markdown",
   "metadata": {},
   "source": [
    "### Sampling from Gaussians\n",
    "- Uncorrelated ${\\cal N}(0,I)$: Box-Muller transform \n",
    "\n",
    "> Using 2 uniform randoms between 0 and 1\n",
    ">\n",
    ">$ Z_1 = \\sqrt{-2\\ln U_1}\\,\\cos\\big(2\\pi U_2\\big)$ \n",
    ">\n",
    ">$ Z_2 = \\sqrt{-2\\ln U_1}\\,\\sin\\big(2\\pi U_2\\big)$ \n",
    "\n",
    "- Tranform: scale, rotate, shift\n",
    "\n",
    "- Derivation of the Box-Muller transform\n",
    "\n",
    "> If $Z_1$ and $Z_2$ are jointly normally distributed ${\\cal N}(0,I)$, we have $Z_1 = R\\cos(\\theta)$ and $Z_2 = R\\sin(\\theta)$, where $R^2 \\sim \\exp(1/2)$ and $\\theta\\sim Unif(0,2\\pi)$. To generate $R$, we use a uniform random variable $U_1\\sim Unif(0,1)$ and set $R=\\sqrt{-2\\ln U_1}$. To generate $\\theta$, we use a uniform random variable $U_2 \\sim Unif(0,1)$ and set $\\theta=2\\pi U_2$."
   ]
  },
  {
   "cell_type": "markdown",
   "metadata": {},
   "source": [
    "### Quick Review of Statistics in Python"
   ]
  },
  {
   "cell_type": "code",
   "execution_count": 2,
   "metadata": {
    "collapsed": true
   },
   "outputs": [],
   "source": [
    "from scipy import stats"
   ]
  },
  {
   "cell_type": "markdown",
   "metadata": {},
   "source": [
    "- **Random Variables**\n",
    "\n",
    "> The main public methods for continuous RVs are:\n",
    "- rvs: Random Variates\n",
    "- pdf: Probability Density Function\n",
    "- cdf: Cumulative Distribution Function\n",
    "- sf: Survival Function (1-CDF)\n",
    "- ppf: Percent Point Function (Inverse of CDF)\n",
    "- isf: Inverse Survival Function (Inverse of SF)\n",
    "- stats: Return mean, variance, (Fisher’s) skew, or (Fisher’s) kurtosis\n",
    "- moment: non-central moments of the distribution"
   ]
  },
  {
   "cell_type": "code",
   "execution_count": 3,
   "metadata": {
    "collapsed": true
   },
   "outputs": [],
   "source": [
    "# Use normal distribution as an example\n",
    "from scipy.stats import norm"
   ]
  },
  {
   "cell_type": "code",
   "execution_count": 4,
   "metadata": {},
   "outputs": [
    {
     "data": {
      "text/plain": [
       "array([-0.2767676 ,  0.581851  ,  2.14839926, -1.279487  ,  0.50227689])"
      ]
     },
     "execution_count": 4,
     "metadata": {},
     "output_type": "execute_result"
    }
   ],
   "source": [
    "# Generate 5 samples from N(0,1)\n",
    "norm.rvs(loc=0, scale=1, size=5, random_state=2018)  # loc is the mean, scale is the standard deviation  "
   ]
  },
  {
   "cell_type": "code",
   "execution_count": 5,
   "metadata": {},
   "outputs": [
    {
     "data": {
      "text/plain": [
       "array([-0.2767676 ,  0.581851  ,  2.14839926, -1.279487  ,  0.50227689])"
      ]
     },
     "execution_count": 5,
     "metadata": {},
     "output_type": "execute_result"
    }
   ],
   "source": [
    "# If we use the same `random_state`, we will get the same result every time (one thing to remember for reproducibility)\n",
    "norm.rvs(loc=0, scale=1, size=5, random_state=2018)"
   ]
  },
  {
   "cell_type": "code",
   "execution_count": 6,
   "metadata": {},
   "outputs": [
    {
     "data": {
      "text/plain": [
       "array([[-0.2767676 ,  0.581851  ],\n",
       "       [ 2.14839926, -1.279487  ],\n",
       "       [ 0.50227689,  0.8560293 ],\n",
       "       [-0.14279008,  0.11007867],\n",
       "       [-0.68806479,  0.43356408],\n",
       "       [ 0.510221  , -0.16513097],\n",
       "       [-1.35177905,  0.54663075],\n",
       "       [ 1.23065512,  1.0764461 ],\n",
       "       [-1.21062488, -0.30667657]])"
      ]
     },
     "execution_count": 6,
     "metadata": {},
     "output_type": "execute_result"
    }
   ],
   "source": [
    "# Generate 9 x 2 vectors \n",
    "norm.rvs(loc=0, scale=1, size=(9,2), random_state=2018)"
   ]
  },
  {
   "cell_type": "code",
   "execution_count": 7,
   "metadata": {},
   "outputs": [
    {
     "data": {
      "text/plain": [
       "array([ 0.39894228,  0.05399097])"
      ]
     },
     "execution_count": 7,
     "metadata": {},
     "output_type": "execute_result"
    }
   ],
   "source": [
    "# Calculate the PDF of N(0,1) on 0 and 2\n",
    "norm.pdf([0, 2], loc=0, scale=1)"
   ]
  },
  {
   "cell_type": "code",
   "execution_count": 8,
   "metadata": {},
   "outputs": [
    {
     "data": {
      "text/plain": [
       "array([ 0.5       ,  0.84134475])"
      ]
     },
     "execution_count": 8,
     "metadata": {},
     "output_type": "execute_result"
    }
   ],
   "source": [
    "# Calculate CDF of N(0,1) on 0 and 1\n",
    "norm.cdf([0, 1], loc=0, scale=1)"
   ]
  },
  {
   "cell_type": "markdown",
   "metadata": {},
   "source": [
    "- [More about `scipy.stats`](https://docs.scipy.org/doc/scipy/reference/tutorial/stats.html)\n",
    "- [More about `scipy.stats.norm`](https://docs.scipy.org/doc/scipy/reference/generated/scipy.stats.norm.html)"
   ]
  },
  {
   "cell_type": "markdown",
   "metadata": {},
   "source": [
    "### Example"
   ]
  },
  {
   "cell_type": "code",
   "execution_count": 9,
   "metadata": {
    "collapsed": true
   },
   "outputs": [],
   "source": [
    "from scipy.stats import norm as gaussian"
   ]
  },
  {
   "cell_type": "code",
   "execution_count": 10,
   "metadata": {},
   "outputs": [
    {
     "name": "stdout",
     "output_type": "stream",
     "text": [
      "[ 1.92136942  4.90878625]\n",
      "(2,)\n"
     ]
    },
    {
     "data": {
      "text/plain": [
       "array([ 1.92136942,  4.90878625])"
      ]
     },
     "execution_count": 10,
     "metadata": {},
     "output_type": "execute_result"
    },
    {
     "data": {
      "image/png": "[encoded data removed]",
      "text/plain": [
       "<matplotlib.figure.Figure at 0x1067da400>"
      ]
     },
     "metadata": {},
     "output_type": "display_data"
    }
   ],
   "source": [
    "# Generate many 2D (column) vectors\n",
    "X = gaussian.rvs(0,1,(2,1000))\n",
    "\n",
    "# Scale axis 0\n",
    "X[0,:] *= 3 \n",
    "\n",
    "# Rotate by f\n",
    "f = +pi/4    \n",
    "R = array([[cos(f),-sin(f)],\n",
    "           [sin(f), cos(f)]]) \n",
    "V = R.dot(X)\n",
    "\n",
    "# Shift with a vector\n",
    "V += np.array([[2],\n",
    "               [5]]) \n",
    "\n",
    "# Plot on square figure\n",
    "figure(figsize=(4,4));                 # Modify the size of the plot\n",
    "a=15; xlim(-a,a); ylim(-a,a)           # Modify the range of x and y axis\n",
    "plot(V[0,:],V[1,:], '.', alpha=0.1)    # alpha is the dot size\n",
    "\n",
    "# Sample mean\n",
    "averages = mean(V, axis=1) # compute the row mean\n",
    "print (averages)\n",
    "print (averages.shape)\n",
    "averages"
   ]
  },
  {
   "cell_type": "code",
   "execution_count": 11,
   "metadata": {},
   "outputs": [
    {
     "name": "stdout",
     "output_type": "stream",
     "text": [
      "Average: \n",
      "[[ 1.92136942]\n",
      " [ 4.90878625]]\n",
      "Cov:\n",
      "[[ 4.77826238  3.87392263]\n",
      " [ 3.87392263  4.84209094]]\n"
     ]
    }
   ],
   "source": [
    "#avg = averages.reshape(averages.size,1)\n",
    "avg = averages[:,np.newaxis] \n",
    "print (\"Average: \")\n",
    "print (avg)\n",
    "\n",
    "# Sample covariance matrix\n",
    "print (\"Cov:\")\n",
    "print (np.dot(V-avg, (V-avg).T) / (V[0,:].size-1))"
   ]
  },
  {
   "cell_type": "markdown",
   "metadata": {},
   "source": [
    "- `np.newaxis` (c.f. [Indexing in Python](https://docs.scipy.org/doc/numpy-1.13.0/reference/arrays.indexing.html))"
   ]
  },
  {
   "cell_type": "markdown",
   "metadata": {
    "slideshow": {
     "slide_type": "slide"
    }
   },
   "source": [
    "<h1><font color=\"darkblue\">Method of Least Squares</font></h1>\n",
    "<hr/>"
   ]
  },
  {
   "cell_type": "markdown",
   "metadata": {},
   "source": [
    "### The Idea\n",
    "\n",
    "- Fit a model to training set $\\big\\{ (x_i, y_i) \\big\\}$\n",
    "\n",
    "> Parameterized function $f(x;\\theta)$, where $\\theta$ can represent multiple parameters\n",
    "\n",
    "- Minimize the mean or sum of square errors or residuals (SSE, SSR, MSE, MSR?)\n",
    "\n",
    "> Residual   \n",
    ">$r_i(\\theta) = y_i - f(x_i;\\theta)$\n",
    ">\n",
    "> Estimation  \n",
    ">$\\displaystyle \\hat{\\theta} = \\arg\\min_{\\theta} \\sum_{i=1}^N \\big[y_i-f(x_i;\\theta)\\big]^2$\n",
    " \n",
    "- Optimization is simple for certain models"
   ]
  },
  {
   "cell_type": "markdown",
   "metadata": {},
   "source": [
    "### The Simplest Case\n",
    "- Fitting a constant? Model with $f(x;\\mu)=\\mu$\n",
    "\n",
    ">$\\displaystyle C(\\mu) = \\sum_{i=1}^N \\big(y_i\\!-\\!\\mu\\big)^2$\n",
    "\n",
    "- Derivative $C'= dC \\big/ d\\mu$ vanishes at solution $\\hat{\\mu}$\n",
    "\n",
    ">$\\displaystyle C'(\\hat{\\mu}) = 0$\n",
    ">\n",
    ">$\\displaystyle 2\\sum_{i=1}^N \\big(y_i\\!-\\!\\hat{\\mu}\\big)(-1)=0$\n",
    ">\n",
    ">$\\displaystyle \\sum_{i=1}^N y_i - N \\hat{\\mu} = 0 $\n",
    ">\n",
    ">$\\displaystyle \\hat{\\mu} = \\frac{1}{N}\\sum_{i=1}^N y_i \\ \\ \\ \\ \\ $  -  average"
   ]
  },
  {
   "cell_type": "markdown",
   "metadata": {},
   "source": [
    "### Heteroscedasticity\n",
    "- Same model with $f(x;\\mu)=\\mu$\n",
    "\n",
    ">$\\displaystyle C(\\mu) = \\sum_{i=1}^N \\frac{\\big(y_i\\!-\\!\\mu\\big)^2}{\\sigma_i^2} $\n",
    ">\n",
    "> with  $\\ w_i=1 \\big/ \\sigma_i^2$\n",
    ">\n",
    ">$\\displaystyle  C(\\mu) = \\sum_{i=1}^N w_i\\big(y_i\\!-\\!\\mu\\big)^2 $\n",
    "\n",
    "- Derivative $C'= dC \\big/ d\\mu$ vanishes at solution $\\hat{\\mu}$\n",
    "\n",
    ">$\\displaystyle C'(\\hat{\\mu}) = 0$\n",
    ">\n",
    ">$\\displaystyle 2\\sum_{i=1}^N w_i \\big(y_i\\!-\\!\\hat{\\mu}\\big)(-1)=0$\n",
    ">\n",
    ">$\\displaystyle \\sum_{i=1}^N w_i y_i - \\hat{\\mu}\\sum_{i=1}^N w_i  = 0 $\n",
    ">\n",
    ">$\\displaystyle \\hat{\\mu} = \\frac{\\sum_{i=1}^N w_i y_i}{\\sum_{i=1}^N w_i} \\ \\ \\ \\ \\ \\ $ - weighted average (**intuition**: put more weights on points with small $\\sigma_i^2$ and less weights on points with large $\\sigma_i^2$)."
   ]
  },
  {
   "cell_type": "markdown",
   "metadata": {},
   "source": [
    "### Simple Fitting\n",
    "- A linear model with $\\boldsymbol{\\theta}=(a,b)^T$ parametrization $f(x;\\boldsymbol{\\theta}) = a + b\\,x$\n",
    "  \n",
    ">$\\displaystyle \\hat{\\boldsymbol\\theta} = \\arg\\min_\\boldsymbol{\\theta} \\sum_{i=1}^N \\big[y_i-(a + b\\,x_i)\\big]^2$\n",
    "\n",
    "- Derivatives w.r.t. $a$ and $b$ should vanish at solution $\\hat{a}$ and $\\hat{b}$\n",
    "\n",
    "> We have 2 variables and 2 equations\n",
    "\n",
    "> Quadratic becomes linear $\\rightarrow$ analytic solution!"
   ]
  },
  {
   "cell_type": "markdown",
   "metadata": {},
   "source": [
    "#### Unhomework\n",
    "\n",
    "0. Derive the best fit parameters of $(a,b)$"
   ]
  },
  {
   "cell_type": "markdown",
   "metadata": {},
   "source": [
    "### Linear Regression\n",
    "- A linear combination of known $\\phi_k(\\cdot)$ functions (basis functions)\n",
    "\n",
    ">$\\displaystyle f(x;\\boldsymbol{\\beta}) = \\sum_{k=1}^K \\beta_k\\, \\phi_k(x) $\n",
    "\n",
    "> It's a dot product\n",
    "\n",
    ">$\\displaystyle f(x;\\boldsymbol{\\beta}) = \\boldsymbol\\beta^T \\boldsymbol\\phi(x)$ \n",
    ">\n",
    ">with $\\boldsymbol{\\beta}=(\\beta_1,\\dots,\\beta_K)^T$\n",
    "\n",
    "\n",
    "- Linear in $\\boldsymbol{\\beta}$, cost function is quadratic\n",
    "\n",
    ">$\\displaystyle C = \\sum_{i=1}^N \\left\\{ y_i - \\sum_{k=1}^K \\beta_k\\, \\phi_k(x_i) \\right\\}^2$"
   ]
  },
  {
   "cell_type": "markdown",
   "metadata": {},
   "source": [
    "\n",
    "- Introducing a n-by-k matrix $X$ with components\n",
    "\n",
    ">$\\displaystyle X_{ik} = \\phi_k(x_i) $\n",
    "\n",
    "- Linear in $\\boldsymbol{\\beta}$, cost function is quadratic\n",
    "\n",
    ">$\\displaystyle C = \\sum_{i=1}^N \\left\\{ y_i - \\sum_{k=1}^K X_{ik}\\beta_k\\right\\}^2$\n",
    "\n",
    "\n"
   ]
  },
  {
   "cell_type": "markdown",
   "metadata": {},
   "source": [
    "### Minimization\n",
    "\n",
    "- Partial derivatives\n",
    "  \n",
    "\n",
    ">$\\displaystyle \\frac{\\partial{}C}{\\partial{}\\beta_l} = 2\\sum_{i=1}^N \\left\\{ y_i - \\sum_{k=1}^K X_{ik}\\beta_k \\right\\} \n",
    "\\left[ -\\frac{\\partial f(x_i;\\boldsymbol{\\beta})}{\\partial \\beta_l} \\right]$\n",
    "\n",
    "> and\n",
    "\n",
    ">$\\displaystyle \\frac{\\partial f(x_i;\\boldsymbol{\\beta})}{\\partial \\beta_l} =\\sum_k \\frac{\\partial{}\\beta_k}{\\partial{}\\beta_l}\\,\\phi_k(x_i) = \\phi_l(x_i) = X_{il}$\n",
    "\n",
    "> **Note:** $\\partial{}\\beta_k \\big/ \\partial{}\\beta_l=\\delta_{kl}$ is called Kronecker delta"
   ]
  },
  {
   "cell_type": "markdown",
   "metadata": {},
   "source": [
    "### Detour: The Kronecker Delta\n",
    "\n",
    "- Definition\n",
    "\n",
    ">$ \\delta_{kl} = \\left\\{ \\begin{array}{ll}\n",
    "         1 & \\mbox{if $k=l$}\\\\\n",
    "         0 & \\mbox{if $k\\neq{}l$}\\end{array} \\right.  $\n",
    "         \n",
    "- Useful to remember\n",
    "\n",
    ">$ \\displaystyle \\sum_l \\delta_{kl}\\,a_l = a_k$\n",
    "\n",
    "> Cf. identity matrix:\n",
    ">$ I\\, \\boldsymbol{a} = \\boldsymbol{a}$"
   ]
  },
  {
   "cell_type": "markdown",
   "metadata": {},
   "source": [
    "### Result\n",
    "\n",
    "- At the optimum we have\n",
    "\n",
    "\n",
    ">$\\displaystyle \\sum_i \\left\\{ y_i - \\sum_{k} \\hat\\beta_k\\, \\phi_k(x_i) \\right\\}\\, \\phi_l(x_i)  = 0$\n",
    ">\n",
    ">$\\displaystyle \\sum_i \\left\\{ y_i - \\sum_{k} X_{ik}\\hat\\beta_k\\ \\right\\}\\, X_{il}  = 0$\n",
    ">\n",
    ">$\\displaystyle \\sum_i X_{il} y_i  - \\sum_i \\sum_k  X_{il} X_{ik} \\hat{\\beta}_k = 0$\n",
    ">\n",
    ">$\\displaystyle \\sum_i  X_{il} y_i = \\sum_k \\left(\\sum_i X_{il} X_{ik}\\right) \\hat{\\beta}_k$\n",
    "\n",
    "- I.e.,\n",
    "\n",
    ">$\\displaystyle X^T y = X^T X \\hat{\\beta} $\n",
    ">\n",
    ">$\\displaystyle \\hat\\beta = (X^T X)^{-1} X^T y = X^+ y$\n",
    ">\n",
    "> Note that $X$ is a n-by-k matrix with $n>k$. When the columns of $X$ are linearly independent, $X^TX$ is always invertible.\n",
    "\n",
    "- See [Moore-Penrose Pseudoinverse](https://en.wikipedia.org/wiki/Moore%E2%80%93Penrose_inverse), [Generalized Inverse](https://en.wikipedia.org/wiki/Generalized_inverse)\n",
    "\n",
    "- See also [Singular Value Decomposition](https://en.wikipedia.org/wiki/Singular_value_decomposition)"
   ]
  },
  {
   "cell_type": "markdown",
   "metadata": {},
   "source": [
    "### Hat matrix\n",
    "\n",
    "- Looking at the definition of $X$, we see that the model at $\\hat{\\beta}$ predicts $\\hat{y}_i$ values\n",
    "\n",
    ">$\\displaystyle \\hat{y} = X\\,\\hat\\beta = X\\,(X^T X)^{-1} X^T y $\n",
    ">\n",
    "> which is\n",
    ">\n",
    ">$\\displaystyle \\hat{y}  = H\\,y\\ \\ \\ $\n",
    "> with \n",
    ">$\\ \\ \\displaystyle {H} = X\\,(X^T X)^{-1} X^T$\n",
    ">\n",
    "> Essentially, the predicted values $\\hat{y}$ are the linear combinations of the training values $y$."
   ]
  },
  {
   "cell_type": "markdown",
   "metadata": {},
   "source": [
    "### Quick Review of Linear Algebra in Python"
   ]
  },
  {
   "cell_type": "code",
   "execution_count": 12,
   "metadata": {
    "collapsed": true
   },
   "outputs": [],
   "source": [
    "from scipy import linalg"
   ]
  },
  {
   "cell_type": "markdown",
   "metadata": {},
   "source": [
    "- **scipy.linalg** vs **numpy.linalg**\n",
    "\n",
    " - numpy.linalg $ \\subset $ scipy.linalg\n",
    " - scipy.linalg is faster ([BLAS](https://en.wikipedia.org/wiki/Basic_Linear_Algebra_Subprograms))"
   ]
  },
  {
   "cell_type": "markdown",
   "metadata": {},
   "source": [
    "- **Inverse**\n",
    "\n",
    "> Syntax:\n",
    "- scipy.linalg.inv(a, overwrite_a=False, check_finite=True)\n",
    "\n",
    "> Parameters:\t\n",
    "- **a** : array_like <br/> Square matrix to be inverted.\n",
    "- **overwrite_a** : bool, optional <br/> Discard data in a (may improve performance). Default is False.\n",
    "- **check_finite** : bool, optional <br/> Whether to check that the input matrix contains only finite numbers. Disabling may give a performance gain, but may result in problems (crashes, non-termination) if the inputs do contain infinities or NaNs.\n",
    "\n",
    "> Returns:\t\n",
    "- **ainv** : ndarray <br/> Inverse of the matrix a."
   ]
  },
  {
   "cell_type": "code",
   "execution_count": 13,
   "metadata": {},
   "outputs": [
    {
     "name": "stdout",
     "output_type": "stream",
     "text": [
      "Original Matrix: \n",
      " [[1 3 5]\n",
      " [2 5 1]\n",
      " [2 3 8]]\n",
      "Inverse: \n",
      " [[-1.48  0.36  0.88]\n",
      " [ 0.56  0.08 -0.36]\n",
      " [ 0.16 -0.12  0.04]]\n",
      "Check: \n",
      " [[  1.00000000e+00  -1.11022302e-16  -5.55111512e-17]\n",
      " [  3.05311332e-16   1.00000000e+00   1.87350135e-16]\n",
      " [  2.22044605e-16  -1.11022302e-16   1.00000000e+00]]\n"
     ]
    }
   ],
   "source": [
    "# matrix inverse\n",
    "A = np.array([[1,3,5],[2,5,1],[2,3,8]])\n",
    "print('Original Matrix: \\n', A)\n",
    "A_inv = linalg.inv(A)\n",
    "print('Inverse: \\n', A_inv)\n",
    "print('Check: \\n', A.dot(linalg.inv(A)))"
   ]
  },
  {
   "cell_type": "markdown",
   "metadata": {},
   "source": [
    "- **Determinant**\n",
    "\n",
    "> Syntax:\n",
    "- scipy.linalg.det(a, overwrite_a=False, check_finite=True)\n",
    "\n",
    "> Parameters:\t\n",
    "- **a** : (M, M) array_like <br/> Square matrix.\n",
    "- **overwrite_a** : bool, optional <br/> Allow overwriting data in a (may enhance performance).\n",
    "- **check_finite** : bool, optional <br/> Whether to check that the input matrix contains only finite numbers. Disabling may give a performance gain, but may result in problems (crashes, non-termination) if the inputs do contain infinities or NaNs.\n",
    "\n",
    "> Returns:\t\n",
    "- **det** : float or complex  <br/> Determinant of a."
   ]
  },
  {
   "cell_type": "code",
   "execution_count": 14,
   "metadata": {},
   "outputs": [
    {
     "name": "stdout",
     "output_type": "stream",
     "text": [
      "Original Matrix: \n",
      " [[1 2]\n",
      " [3 4]]\n",
      "Determinant:  -2.0\n"
     ]
    }
   ],
   "source": [
    "# matrix determinant\n",
    "A = np.array([[1,2],[3,4]])\n",
    "print('Original Matrix: \\n', A)\n",
    "print('Determinant: ', linalg.det(A))"
   ]
  },
  {
   "cell_type": "markdown",
   "metadata": {},
   "source": [
    "- **Decompositions**\n",
    "\n",
    "> Syntax:\n",
    "- scipy.linalg.eig(a, b=None, left=False, right=True, overwrite_a=False, overwrite_b=False, check_finite=True, homogeneous_eigvals=False)\n",
    "\n",
    "> Parameters:\t\n",
    "- **a** : (M, M) array_like <br/> A complex or real matrix whose eigenvalues and eigenvectors will be computed.\n",
    "\n",
    "> Returns:\t\n",
    "- **w** : (M,) or (2, M) double or complex ndarray  <br/> The eigenvalues, each repeated according to its multiplicity.\n",
    "- **vr** : (M, M) double or complex ndarray  <br/> The normalized right eigenvector"
   ]
  },
  {
   "cell_type": "code",
   "execution_count": 15,
   "metadata": {},
   "outputs": [
    {
     "name": "stdout",
     "output_type": "stream",
     "text": [
      "Original Matrix: \n",
      " [[1 2]\n",
      " [3 4]]\n",
      "Eigenvalues:  [-0.37228132+0.j  5.37228132+0.j]\n",
      "Eigenvector: \n",
      " [[-0.82456484 -0.41597356]\n",
      " [ 0.56576746 -0.90937671]]\n"
     ]
    }
   ],
   "source": [
    "# eigenvalues and eigenvectors\n",
    "A = np.array([[1, 2], [3, 4]])\n",
    "print('Original Matrix: \\n', A)\n",
    "eigenvalues, eigenvectors = linalg.eig(A)\n",
    "print('Eigenvalues: ', eigenvalues)\n",
    "print('Eigenvector: \\n', eigenvectors)"
   ]
  },
  {
   "cell_type": "markdown",
   "metadata": {},
   "source": [
    "### Example"
   ]
  },
  {
   "cell_type": "code",
   "execution_count": 16,
   "metadata": {},
   "outputs": [
    {
     "data": {
      "image/png": "[encoded data removed]",
      "text/plain": [
       "<matplotlib.figure.Figure at 0x1067bbf60>"
      ]
     },
     "metadata": {},
     "output_type": "display_data"
    }
   ],
   "source": [
    "# Generate sample with error\n",
    "x = 3 * random.rand(50)      # Make it between 0 and 3\n",
    "e = 1 * random.randn(x.size) # Add some noise\n",
    "#y = (0.1*x**3 + 0.5*x**2 + 2*x + 1) + e;  plot(x,y,'bo');\n",
    "y = 10*cos(x+1) + e;  \n",
    "\n",
    "# Plot\n",
    "plot(x,y,'bx');"
   ]
  },
  {
   "cell_type": "markdown",
   "metadata": {},
   "source": [
    "- Recall\n",
    "> $\\displaystyle Y = X \\beta + \\epsilon $\n",
    ">\n",
    "> $\\displaystyle \\hat\\beta = (X^T X)^{-1} X^T Y = X^+ Y$"
   ]
  },
  {
   "cell_type": "markdown",
   "metadata": {},
   "source": [
    "- Linear model $ \\; f(x) = b_0 + b_1 x $"
   ]
  },
  {
   "cell_type": "code",
   "execution_count": 17,
   "metadata": {},
   "outputs": [
    {
     "name": "stdout",
     "output_type": "stream",
     "text": [
      "beta_hat: [ 3.18274823 -5.47705374]\n"
     ]
    },
    {
     "data": {
      "image/png": "[encoded data removed]",
      "text/plain": [
       "<matplotlib.figure.Figure at 0x10862a9b0>"
      ]
     },
     "metadata": {},
     "output_type": "display_data"
    }
   ],
   "source": [
    "# Construct X matrix\n",
    "X = ones((x.size,2));\n",
    "X[:,1] = x\n",
    "\n",
    "# Estimate beta and predict\n",
    "Xpinv = dot(inv(dot(X.T,X)),X.T)\n",
    "bHat = dot(Xpinv,y)\n",
    "yHat = dot(X,bHat)\n",
    "\n",
    "# Plot the true and predicted value\n",
    "plot(x,y,'bx')\n",
    "plot(x,yHat,'ro') \n",
    "\n",
    "print(\"beta_hat:\", bHat)"
   ]
  },
  {
   "cell_type": "code",
   "execution_count": 18,
   "metadata": {},
   "outputs": [
    {
     "name": "stdout",
     "output_type": "stream",
     "text": [
      "beta_hat: [ 3.18274823 -5.47705374]\n"
     ]
    },
    {
     "data": {
      "image/png": "[encoded data removed]",
      "text/plain": [
       "<matplotlib.figure.Figure at 0x103774128>"
      ]
     },
     "metadata": {},
     "output_type": "display_data"
    }
   ],
   "source": [
    "# Same using methods\n",
    "Xpinv = inv(X.T.dot(X)).dot(X.T)\n",
    "bHat = Xpinv.dot(y)\n",
    "yHat = X.dot(bHat)\n",
    "\n",
    "# Plot the true and predicted value\n",
    "plot(x,y,'bx')\n",
    "plot(x,yHat,'ro')\n",
    "\n",
    "print(\"beta_hat:\", bHat)"
   ]
  },
  {
   "cell_type": "code",
   "execution_count": 19,
   "metadata": {},
   "outputs": [
    {
     "data": {
      "text/plain": [
       "[<matplotlib.lines.Line2D at 0x10862a320>]"
      ]
     },
     "execution_count": 19,
     "metadata": {},
     "output_type": "execute_result"
    },
    {
     "data": {
      "image/png": "[encoded data removed]",
      "text/plain": [
       "<matplotlib.figure.Figure at 0x1020246d8>"
      ]
     },
     "metadata": {},
     "output_type": "display_data"
    }
   ],
   "source": [
    "# Same again with pinv() and the Hat matrix\n",
    "H = X.dot(linalg.pinv(X)) \n",
    "yHat = H.dot(y)\n",
    "\n",
    "# Plot the true and predicted value\n",
    "plot(x,y,'bx')\n",
    "plot(x,yHat,'ro')"
   ]
  },
  {
   "cell_type": "markdown",
   "metadata": {},
   "source": [
    "- Linear model $ \\; f(x) = b_0 + b_1 x + b_2 x^2 $"
   ]
  },
  {
   "cell_type": "code",
   "execution_count": 20,
   "metadata": {},
   "outputs": [
    {
     "data": {
      "text/plain": [
       "[<matplotlib.lines.Line2D at 0x10856fcc0>]"
      ]
     },
     "execution_count": 20,
     "metadata": {},
     "output_type": "execute_result"
    },
    {
     "data": {
      "image/png": "[encoded data removed]",
      "text/plain": [
       "<matplotlib.figure.Figure at 0x10862ab38>"
      ]
     },
     "metadata": {},
     "output_type": "display_data"
    }
   ],
   "source": [
    "# Construct X matrix\n",
    "X = ones( (x.size,3));\n",
    "X[:,1] = x             # partials wrt. b1\n",
    "X[:,2] = x*x           # wrt. b2\n",
    "\n",
    "# Sames as before\n",
    "bHatQ = linalg.pinv(X).dot(y)\n",
    "yHatQ = X.dot(bHatQ)\n",
    "\n",
    "# or like this\n",
    "H = dot(X,linalg.pinv(X))\n",
    "yHatQ = dot(H,y)\n",
    "\n",
    "# Plot the true and predicted value\n",
    "plot(x,y,'bx')\n",
    "plot(x,yHatQ,'ro')"
   ]
  },
  {
   "cell_type": "markdown",
   "metadata": {},
   "source": [
    "### Unhomework\n",
    "\n",
    "0. Fit a 3rd order polynomial to the same data\n",
    "\n",
    "0. Fit $f(x;\\beta_0,\\beta_1) = \\beta_0\\sin(x) + \\beta_1\\cos(x)$\n",
    "\n",
    "0. Evaluate the best fits on a grid of 1000 equally-spaced points in $[-1,4]$\n",
    "\n",
    "0. Plot them in one figure"
   ]
  },
  {
   "cell_type": "markdown",
   "metadata": {},
   "source": [
    "\n",
    "### Heteroscedastic error\n",
    "\n",
    "- Simple modification\n",
    "\n",
    ">$\\displaystyle C = \\sum_{i=1}^N w_i \\left\\{ y_i - \\sum_{k=1}^K X_{ik}\\beta_k\\right\\}^2$\n",
    ">\n",
    "> yields\n",
    ">\n",
    ">$\\displaystyle \\sum_i w_i \\left\\{ y_i - \\sum_{k} X_{ik} \\hat\\beta_k\\ \\right\\}\\, X_{il}  = 0$\n",
    ">\n",
    ">$\\displaystyle \\sum_i  X_{il} w_i y_i = \\sum_k \\left(\\sum_i X_{il} w_i X_{ik}\\right) \\hat{\\beta}_k$\n",
    "\n",
    "\n",
    "- Diagonal weight matrix $W$\n",
    "\n",
    ">$\\displaystyle X^T W y = X^T W X \\hat{\\beta} $\n",
    ">\n",
    ">$\\displaystyle \\hat\\beta = (X^T W X)^{-1} X^T W y $\n",
    "\n"
   ]
  },
  {
   "cell_type": "markdown",
   "metadata": {},
   "source": [
    "### A Little Bit More"
   ]
  },
  {
   "cell_type": "markdown",
   "metadata": {},
   "source": [
    "- It is always a good practice to write your own code to construct $ X $ matrix and estimate $ \\beta $. But maybe you should also know that there are some functions in Python that could be convenient sometime (could also be used to double check your result)."
   ]
  },
  {
   "cell_type": "markdown",
   "metadata": {},
   "source": [
    "- [`PolynomialFeatures`](http://scikit-learn.org/stable/modules/generated/sklearn.preprocessing.PolynomialFeatures.html): Generate polynomial and interaction features"
   ]
  },
  {
   "cell_type": "code",
   "execution_count": 21,
   "metadata": {
    "collapsed": true
   },
   "outputs": [],
   "source": [
    "from sklearn.preprocessing import PolynomialFeatures as poly"
   ]
  },
  {
   "cell_type": "code",
   "execution_count": 22,
   "metadata": {},
   "outputs": [
    {
     "data": {
      "text/plain": [
       "array([ 0.16151773,  0.6416825 ,  3.38079874,  2.12549052,  3.88434407,\n",
       "        3.84071136,  3.82916263,  7.78996973,  8.66014733,  8.2653511 ])"
      ]
     },
     "execution_count": 22,
     "metadata": {},
     "output_type": "execute_result"
    }
   ],
   "source": [
    "Y = np.arange(10) + random.randn(10)\n",
    "Y"
   ]
  },
  {
   "cell_type": "code",
   "execution_count": 23,
   "metadata": {},
   "outputs": [
    {
     "data": {
      "text/plain": [
       "array([[  0.7448296 ,   1.75275506],\n",
       "       [  1.2740931 ,   2.88621911],\n",
       "       [  3.99953367,   2.46813722],\n",
       "       [  5.4482849 ,   5.64852827],\n",
       "       [  6.80605453,   9.49332331],\n",
       "       [ 10.49889136,   9.21975814],\n",
       "       [ 12.3259854 ,  11.79712956],\n",
       "       [ 13.03726485,  14.57079365],\n",
       "       [ 14.17468186,  17.4982057 ],\n",
       "       [ 19.04144685,  20.4878488 ]])"
      ]
     },
     "execution_count": 23,
     "metadata": {},
     "output_type": "execute_result"
    }
   ],
   "source": [
    "X = np.arange(20).reshape(10, 2) + random.randn(10,2)\n",
    "X"
   ]
  },
  {
   "cell_type": "markdown",
   "metadata": {},
   "source": [
    "> Construct $ \\displaystyle [1, X_1, X_2, X_1^2, X_1 X_2, X_2^2] $"
   ]
  },
  {
   "cell_type": "code",
   "execution_count": 24,
   "metadata": {},
   "outputs": [
    {
     "data": {
      "text/plain": [
       "array([[   1.        ,    0.7448296 ,    1.75275506,    0.55477113,\n",
       "           1.30550385,    3.07215029],\n",
       "       [   1.        ,    1.2740931 ,    2.88621911,    1.62331323,\n",
       "           3.67731186,    8.33026077],\n",
       "       [   1.        ,    3.99953367,    2.46813722,   15.99626954,\n",
       "           9.8713979 ,    6.09170134],\n",
       "       [   1.        ,    5.4482849 ,    5.64852827,   29.6838084 ,\n",
       "          30.77479131,   31.90587164],\n",
       "       [   1.        ,    6.80605453,    9.49332331,   46.32237824,\n",
       "          64.6120761 ,   90.12318748],\n",
       "       [   1.        ,   10.49889136,    9.21975814,  110.22671985,\n",
       "          96.79723908,   85.00394013],\n",
       "       [   1.        ,   12.3259854 ,   11.79712956,  151.92991606,\n",
       "         145.41124673,  139.17226589],\n",
       "       [   1.        ,   13.03726485,   14.57079365,  169.97027488,\n",
       "         189.96329595,  212.30802759],\n",
       "       [   1.        ,   14.17468186,   17.4982057 ,  200.92160593,\n",
       "         248.03149894,  306.18720262],\n",
       "       [   1.        ,   19.04144685,   20.4878488 ,  362.57669831,\n",
       "         390.11828415,  419.75194859]])"
      ]
     },
     "execution_count": 24,
     "metadata": {},
     "output_type": "execute_result"
    }
   ],
   "source": [
    "poly2 = poly(2)\n",
    "X2 = poly2.fit_transform(X)\n",
    "X2"
   ]
  },
  {
   "cell_type": "markdown",
   "metadata": {},
   "source": [
    "> Construct $ \\displaystyle [1, X_1, X_2, X_1 X_2] $"
   ]
  },
  {
   "cell_type": "code",
   "execution_count": 25,
   "metadata": {},
   "outputs": [
    {
     "data": {
      "text/plain": [
       "array([[   1.        ,    0.7448296 ,    1.75275506,    1.30550385],\n",
       "       [   1.        ,    1.2740931 ,    2.88621911,    3.67731186],\n",
       "       [   1.        ,    3.99953367,    2.46813722,    9.8713979 ],\n",
       "       [   1.        ,    5.4482849 ,    5.64852827,   30.77479131],\n",
       "       [   1.        ,    6.80605453,    9.49332331,   64.6120761 ],\n",
       "       [   1.        ,   10.49889136,    9.21975814,   96.79723908],\n",
       "       [   1.        ,   12.3259854 ,   11.79712956,  145.41124673],\n",
       "       [   1.        ,   13.03726485,   14.57079365,  189.96329595],\n",
       "       [   1.        ,   14.17468186,   17.4982057 ,  248.03149894],\n",
       "       [   1.        ,   19.04144685,   20.4878488 ,  390.11828415]])"
      ]
     },
     "execution_count": 25,
     "metadata": {},
     "output_type": "execute_result"
    }
   ],
   "source": [
    "poly2 = poly(2, interaction_only=True)\n",
    "X2 = poly2.fit_transform(X)\n",
    "X2"
   ]
  },
  {
   "cell_type": "markdown",
   "metadata": {},
   "source": [
    "- [`train_test_split`](http://scikit-learn.org/stable/modules/generated/sklearn.model_selection.train_test_split.html): Split arrays or matrices into random train and test subsets"
   ]
  },
  {
   "cell_type": "code",
   "execution_count": 26,
   "metadata": {
    "collapsed": true
   },
   "outputs": [],
   "source": [
    "from sklearn.model_selection import train_test_split"
   ]
  },
  {
   "cell_type": "code",
   "execution_count": 27,
   "metadata": {},
   "outputs": [
    {
     "name": "stdout",
     "output_type": "stream",
     "text": [
      "X_train: \n",
      " [[ 14.17468186  17.4982057 ]\n",
      " [ 19.04144685  20.4878488 ]\n",
      " [  6.80605453   9.49332331]\n",
      " [ 10.49889136   9.21975814]\n",
      " [  1.2740931    2.88621911]\n",
      " [  3.99953367   2.46813722]\n",
      " [ 12.3259854   11.79712956]]\n",
      "X_test: \n",
      " [[  0.7448296    1.75275506]\n",
      " [  5.4482849    5.64852827]\n",
      " [ 13.03726485  14.57079365]]\n",
      "Y_train: \n",
      " [ 8.66014733  8.2653511   3.88434407  3.84071136  0.6416825   3.38079874\n",
      "  3.82916263]\n",
      "Y_test: \n",
      " [ 0.16151773  2.12549052  7.78996973]\n"
     ]
    }
   ],
   "source": [
    "X_train, X_test, Y_train, Y_test = train_test_split(X, Y, test_size=0.25, random_state=2018)\n",
    "print('X_train: \\n', X_train)\n",
    "print('X_test: \\n', X_test)\n",
    "print('Y_train: \\n', Y_train)\n",
    "print('Y_test: \\n', Y_test)"
   ]
  },
  {
   "cell_type": "markdown",
   "metadata": {},
   "source": [
    "- [`LinearRegression`](http://scikit-learn.org/stable/modules/generated/sklearn.linear_model.LinearRegression.html): Ordinary least squares Linear Regression"
   ]
  },
  {
   "cell_type": "code",
   "execution_count": 28,
   "metadata": {
    "collapsed": true
   },
   "outputs": [],
   "source": [
    "from sklearn import linear_model"
   ]
  },
  {
   "cell_type": "code",
   "execution_count": 29,
   "metadata": {
    "collapsed": true
   },
   "outputs": [],
   "source": [
    "lm = linear_model.LinearRegression()\n",
    "lm.fit(X_train, Y_train);"
   ]
  },
  {
   "cell_type": "code",
   "execution_count": 30,
   "metadata": {},
   "outputs": [
    {
     "data": {
      "text/plain": [
       "array([ 0.01077225,  0.37399507])"
      ]
     },
     "execution_count": 30,
     "metadata": {},
     "output_type": "execute_result"
    }
   ],
   "source": [
    "lm.coef_"
   ]
  },
  {
   "cell_type": "code",
   "execution_count": 31,
   "metadata": {},
   "outputs": [
    {
     "data": {
      "text/plain": [
       "0.5926594555146556"
      ]
     },
     "execution_count": 31,
     "metadata": {},
     "output_type": "execute_result"
    }
   ],
   "source": [
    "lm.intercept_"
   ]
  },
  {
   "cell_type": "code",
   "execution_count": 32,
   "metadata": {},
   "outputs": [
    {
     "data": {
      "text/plain": [
       "array([ 1.25620469,  2.76387147,  6.18250512])"
      ]
     },
     "execution_count": 32,
     "metadata": {},
     "output_type": "execute_result"
    }
   ],
   "source": [
    "lm.predict(X_test)"
   ]
  },
  {
   "cell_type": "markdown",
   "metadata": {},
   "source": [
    "> $ \\displaystyle  R^2 = 1 - \\frac{\\sum (y_i - \\hat{y_i})^2}{\\sum (y_i - \\bar{y})^2} $"
   ]
  },
  {
   "cell_type": "code",
   "execution_count": 33,
   "metadata": {},
   "outputs": [
    {
     "data": {
      "text/plain": [
       "0.86647689702497654"
      ]
     },
     "execution_count": 33,
     "metadata": {},
     "output_type": "execute_result"
    }
   ],
   "source": [
    "# R^2 (must fit first)\n",
    "lm.score(X_test, Y_test)  "
   ]
  },
  {
   "cell_type": "markdown",
   "metadata": {},
   "source": [
    "- [More on linear model](http://scikit-learn.org/stable/modules/linear_model.html)"
   ]
  }
 ],
 "metadata": {
  "anaconda-cloud": {},
  "kernelspec": {
   "display_name": "Python 3",
   "language": "python",
   "name": "python3"
  },
  "language_info": {
   "codemirror_mode": {
    "name": "ipython",
    "version": 3
   },
   "file_extension": ".py",
   "mimetype": "text/x-python",
   "name": "python",
   "nbconvert_exporter": "python",
   "pygments_lexer": "ipython3",
   "version": "3.6.3"
  },
  "toc": {
   "nav_menu": {},
   "number_sections": false,
   "sideBar": true,
   "skip_h1_title": false,
   "title_cell": "Table of Contents",
   "title_sidebar": "Contents",
   "toc_cell": false,
   "toc_position": {},
   "toc_section_display": true,
   "toc_window_display": false
  },
  "varInspector": {
   "cols": {
    "lenName": 16,
    "lenType": 16,
    "lenVar": 40
   },
   "kernels_config": {
    "python": {
     "delete_cmd_postfix": "",
     "delete_cmd_prefix": "del ",
     "library": "var_list.py",
     "varRefreshCmd": "print(var_dic_list())"
    },
    "r": {
     "delete_cmd_postfix": ") ",
     "delete_cmd_prefix": "rm(",
     "library": "var_list.r",
     "varRefreshCmd": "cat(var_dic_list()) "
    }
   },
   "types_to_exclude": [
    "module",
    "function",
    "builtin_function_or_method",
    "instance",
    "_Feature"
   ],
   "window_display": false
  }
 },
 "nbformat": 4,
 "nbformat_minor": 1
}

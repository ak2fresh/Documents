{
 "cells": [
  {
   "cell_type": "markdown",
   "metadata": {},
   "source": [
    "<hr/>\n",
    "\n",
    "# Data Mining\n",
    "\n",
    "<hr/>"
   ]
  },
  {
   "cell_type": "markdown",
   "metadata": {},
   "source": [
    "<h2><font color=\"darkblue\">Exam 1</font></h2>\n",
    "\n",
    "#### Deadline\n",
    "Submit by 1:15pm on Blackboard. Don't wait till the last minute!\n",
    "\n",
    "#### Python packages\n",
    "\n",
    "Use only the `numpy` and `matplotlib` routines for calculations and plotting. \n",
    "You may also use the `pandas` package for data access and manipulation via the `DataFrame`, if needed.\n",
    "\n",
    "####  Work alone!\n",
    "Feel free to use the lecture notes and other resources but work on your own!  \n",
    "\n"
   ]
  },
  {
   "cell_type": "code",
   "execution_count": 1,
   "metadata": {},
   "outputs": [
    {
     "name": "stdout",
     "output_type": "stream",
     "text": [
      "Populating the interactive namespace from numpy and matplotlib\n"
     ]
    }
   ],
   "source": [
    "%pylab inline"
   ]
  },
  {
   "cell_type": "markdown",
   "metadata": {},
   "source": [
    "### Problem 1\n",
    "\n",
    "The attached [CSV](E1-Problem.csv) file contains 3 columns $(x,y,z)$ and hundreds of rows. Visualize and describe the dataset to gain some insight. \n",
    "\n",
    "1. Plot the 3-D dataset from different points of view to gain some insight (2 pts)\n",
    "1. Calculate the sample averages of each column (2 pts)\n",
    "1. Calculate the sample variances of each column (2 pts)\n",
    "1. Calculate the skewness of each column (2 pts)\n",
    "1. Calculate the covariances (2 pts)\n",
    "1. Summarize your findings with your words (2 pts)\n",
    "\n",
    "Total of 12 points"
   ]
  },
  {
   "cell_type": "code",
   "execution_count": 2,
   "metadata": {},
   "outputs": [
    {
     "name": "stdout",
     "output_type": "stream",
     "text": [
      "(443, 3)\n",
      "[[ 2.47256425  2.81373407 -0.08376469]\n",
      " [ 1.43989801  5.58015879  2.7262919 ]\n",
      " [ 3.52040404 -2.82204179  0.03644734]\n",
      " [ 2.72714421  0.02186873  2.13499988]\n",
      " [-1.71516436  2.88874526  1.12292944]]\n"
     ]
    },
    {
     "data": {
      "image/png": "[encoded data removed]",
      "text/plain": [
       "<Figure size 432x288 with 6 Axes>"
      ]
     },
     "metadata": {
      "needs_background": "light"
     },
     "output_type": "display_data"
    }
   ],
   "source": [
    "import numpy as np\n",
    "import matplotlib.pyplot as plt\n",
    "import pandas as pd\n",
    "\n",
    "df = pd.read_csv('E1-Problem.csv')\n",
    "data = df.values # numpy array\n",
    "print (data.shape)\n",
    "print (data[:5])\n",
    "\n",
    "fig, ((ax1, ax2), (ax3, ax4),(ax5, ax6)) = plt.subplots(3, 2, sharex=True, sharey=True)\n",
    "\n",
    "ax1.scatter(data[:,0], data[:,1]);\n",
    "ax2.scatter(data[:,0], data[:,2]);\n",
    "ax3.scatter(data[:,1], data[:,2]);\n",
    "ax4.scatter(data[:,2], data[:,1]);\n",
    "ax5.scatter(data[:,2], data[:,0]);\n",
    "ax6.scatter(data[:,1], data[:,0]);"
   ]
  },
  {
   "cell_type": "code",
   "execution_count": 3,
   "metadata": {},
   "outputs": [],
   "source": [
    "def normMoments(X,k,xbar,N,s):\n",
    "    return np.sum((X-xbar)**k , axis =0)/((N-1)*s**k);"
   ]
  },
  {
   "cell_type": "markdown",
   "metadata": {},
   "source": [
    "### Column 1 Data "
   ]
  },
  {
   "cell_type": "code",
   "execution_count": 4,
   "metadata": {},
   "outputs": [
    {
     "name": "stdout",
     "output_type": "stream",
     "text": [
      "The Average of Column 1  of the data set is -0.069552\n",
      "The Variance of Column 1 of the data set is 8.750266\n",
      "The Skeweness of Column 1 of the data set is -0.027313\n",
      "The Covariance of Column 1 of the data set is 8.750266\n"
     ]
    }
   ],
   "source": [
    "X = data[:,0]\n",
    "N   = len(X);\n",
    "avg = np.mean(X);\n",
    "s2  = np.sum( (X-avg)**2, axis=0) /(N-1);\n",
    "s   = np.sqrt(s2);\n",
    "cov = np.cov(X);\n",
    "\n",
    "skeweness = normMoments(X,3,avg,N,s);\n",
    "\n",
    "print ('The Average of Column 1  of the data set is %f' % (avg))\n",
    "print ('The Variance of Column 1 of the data set is %f' % (s2))\n",
    "print ('The Skeweness of Column 1 of the data set is %f' % (skeweness))\n",
    "print ('The Covariance of Column 1 of the data set is %f' % (cov))"
   ]
  },
  {
   "cell_type": "markdown",
   "metadata": {},
   "source": [
    "### Column 2 Data"
   ]
  },
  {
   "cell_type": "code",
   "execution_count": 5,
   "metadata": {},
   "outputs": [
    {
     "name": "stdout",
     "output_type": "stream",
     "text": [
      "The Average of Column 2  of the data set is 0.057702\n",
      "The Variance of Column 2 of the data set is 8.040261\n",
      "The Skeweness of Column 2 of the data set is 0.041105\n",
      "The Covariance of Column 2 of the data set is 8.040261\n"
     ]
    }
   ],
   "source": [
    "X   = data[:,1]\n",
    "N   = len(X);\n",
    "avg = np.mean(X);\n",
    "s2  = np.sum( (X-avg)**2, axis=0) /(N-1);\n",
    "s   = np.sqrt(s2);\n",
    "cov = np.cov(X);\n",
    "\n",
    "skeweness = normMoments(X,3,avg,N,s);\n",
    "\n",
    "\n",
    "print ('The Average of Column 2  of the data set is %f' % (avg))\n",
    "print ('The Variance of Column 2 of the data set is %f' % (s2))\n",
    "print ('The Skeweness of Column 2 of the data set is %f' % (skeweness))\n",
    "print ('The Covariance of Column 2 of the data set is %f' % (cov))"
   ]
  },
  {
   "cell_type": "markdown",
   "metadata": {},
   "source": [
    "### Column 3 Data"
   ]
  },
  {
   "cell_type": "code",
   "execution_count": 6,
   "metadata": {},
   "outputs": [
    {
     "name": "stdout",
     "output_type": "stream",
     "text": [
      "The Average of Column 3  of the data set is 1.821845\n",
      "The Variance of Column 3 of the data set is 0.999743\n",
      "The Skeweness of Column 3 of the data set is 0.003539\n",
      "The Covariance of Column 3 of the data set is 0.999743\n"
     ]
    }
   ],
   "source": [
    "X   = data[:,2]\n",
    "N   = len(X);\n",
    "avg = np.mean(X);\n",
    "s2  = np.sum( (X-avg)**2, axis=0) /(N-1);\n",
    "s   = np.sqrt(s2);\n",
    "cov = np.cov(X);\n",
    "\n",
    "skeweness = normMoments(X,3,avg,N,s);\n",
    "\n",
    "\n",
    "print ('The Average of Column 3  of the data set is %f' % (avg))\n",
    "print ('The Variance of Column 3 of the data set is %f' % (s2))\n",
    "print ('The Skeweness of Column 3 of the data set is %f' % (skeweness))\n",
    "print ('The Covariance of Column 3 of the data set is %f' % (cov))"
   ]
  },
  {
   "cell_type": "markdown",
   "metadata": {},
   "source": [
    "## Problem 2\n",
    "\n",
    "Use generalized linear regression to fit $z$ using the following family of functions, \n",
    "\n",
    "> $\\displaystyle f(x,y;\\boldsymbol{\\beta}) = \\sum_k \\beta_k \\,\\phi_k(x,y)$\n",
    "> <br>\n",
    "> where\n",
    "> <br>\n",
    "> $\\displaystyle \\phi_0(x,y) = 1$\n",
    "> <br>\n",
    "> $\\displaystyle \\phi_1(x,y) = x$\n",
    "> <br>\n",
    "> $\\displaystyle \\phi_2(x,y) = y$\n",
    "> <br>\n",
    "> $\\displaystyle \\phi_3(x,y) = \\sin(x)$\n",
    "> <br>\n",
    "> $\\displaystyle \\phi_4(x,y) = \\cos(x)$\n",
    "> <br>\n",
    "> $\\displaystyle \\phi_5(x,y) = \\sin(y)$\n",
    "> <br>\n",
    "> $\\displaystyle \\phi_6(x,y) = \\cos(y)$\n",
    "\n",
    "\n",
    "1. Construct the design matrix `X` from the given dataframe `df` for the above problem (3 pts)\n",
    "2. Derive the best $\\hat{\\boldsymbol{\\beta}}$ coefficients (3 pts)\n",
    "3. Derive the estimated values $\\hat{z}_i=f(x_i,y_i;\\hat{\\boldsymbol{\\beta}})$ for each data point $i$ (2 pts)\n",
    "3. Plot the histogram of the $\\{(z_i\\!-\\!\\hat{z}_i)\\}$ residuals (2 pts)\n",
    "4. Based on the best fit, estimate the $\\hat{z}$ at the origin of the $x\\!-\\!y$ plane, i.e., calculate the $f(0,0;\\hat{\\boldsymbol{\\beta}})$ value (3 pts)\n",
    "\n",
    "Total of 13 points"
   ]
  },
  {
   "cell_type": "code",
   "execution_count": 7,
   "metadata": {},
   "outputs": [],
   "source": [
    "x = data[:,0];\n",
    "y = data[:,1];\n",
    "z = data[:,2]\n",
    "X = np.ones((data[:,0].size,7));\n",
    "\n",
    "X[:,1] = x;\n",
    "X[:,2] = y;\n",
    "X[:,3] = np.sin(x);\n",
    "X[:,4] = np.cos(x);\n",
    "X[:,5] = np.sin(y);\n",
    "X[:,6] = np.cos(y);"
   ]
  },
  {
   "cell_type": "code",
   "execution_count": 9,
   "metadata": {},
   "outputs": [
    {
     "data": {
      "image/png": "[encoded data removed]",
      "text/plain": [
       "<Figure size 432x288 with 2 Axes>"
      ]
     },
     "metadata": {
      "needs_background": "light"
     },
     "output_type": "display_data"
    }
   ],
   "source": [
    "Xpinv = dot(inv(dot(X.T,X)),X.T);\n",
    "bHat = Xpinv.dot(data);\n",
    "zHat = dot(X,bHat)\n",
    "\n",
    "fig, ((ax1, ax2)) = plt.subplots(1, 2)\n",
    "\n",
    "\n",
    "shape(zHat)\n",
    "\n",
    "for n in range(1,7): # for loop, n from 1 to 6\n",
    "    X0 = np.ones((x.size,2));\n",
    "    X0[:,1] = X[:,n]\n",
    "    Xpinv = dot(inv(dot(X0.T,X0)),X0.T); \n",
    "    bHat = dot(Xpinv,z) # Calculating Beta Coefficients for current Trial Set \n",
    "    zHat = dot(X0,bHat) # Calcualting zHat \n",
    "    zRes = z-zHat       # calcualting z Residual\n",
    "    ax1.hist(zRes)      # Plotting histogram \n",
    "    ax2.plot(x, zHat, 'o',label=n)"
   ]
  },
  {
   "cell_type": "code",
   "execution_count": null,
   "metadata": {},
   "outputs": [],
   "source": []
  }
 ],
 "metadata": {
  "kernelspec": {
   "display_name": "Python 3",
   "language": "python",
   "name": "python3"
  },
  "language_info": {
   "codemirror_mode": {
    "name": "ipython",
    "version": 3
   },
   "file_extension": ".py",
   "mimetype": "text/x-python",
   "name": "python",
   "nbconvert_exporter": "python",
   "pygments_lexer": "ipython3",
   "version": "3.7.3"
  }
 },
 "nbformat": 4,
 "nbformat_minor": 4
}

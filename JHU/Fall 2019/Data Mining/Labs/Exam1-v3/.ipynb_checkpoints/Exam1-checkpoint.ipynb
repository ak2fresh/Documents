{
 "cells": [
  {
   "cell_type": "markdown",
   "metadata": {},
   "source": [
    "<hr/>\n",
    "\n",
    "# Data Mining\n",
    "\n",
    "<hr/>"
   ]
  },
  {
   "cell_type": "markdown",
   "metadata": {},
   "source": [
    "<h2><font color=\"darkblue\">Exam 1</font></h2>\n",
    "\n",
    "#### Deadline\n",
    "Submit by 1:15pm on Blackboard. Don't wait till the last minute!\n",
    "\n",
    "####  Work alone!\n",
    "Feel free to use the lecture notes and other resources but work on your own!  "
   ]
  },
  {
   "cell_type": "code",
   "execution_count": null,
   "metadata": {},
   "outputs": [],
   "source": [
    "%pylab inline"
   ]
  },
  {
   "cell_type": "markdown",
   "metadata": {},
   "source": [
    "### Problem 1\n",
    "\n",
    "Analyze the attached datasets using simple descriptive statistics; discuss their similarities and differences.\n",
    "\n",
    "1. Run the code snipet below and look at the output (1 pt)\n",
    "0. Understand and provide meaningful comments for each line (4 pts)\n",
    "0. Calculate these quantities for each dataset (2 pts)\n",
    "0. Make plots of these datasets (2 pts)\n",
    "0. Summarize the results with your own words (2 pts)\n",
    "\n",
    "Total of 11 points"
   ]
  },
  {
   "cell_type": "code",
   "execution_count": null,
   "metadata": {},
   "outputs": [],
   "source": [
    "import pandas as pd\n",
    "\n",
    "df1 = pd.read_csv('E1-Problem1-I.csv')\n",
    "df2 = pd.read_csv('E1-Problem1-II.csv')\n",
    "df3 = pd.read_csv('E1-Problem1-III.csv')\n",
    "\n",
    "V = df1.as_matrix().T\n",
    "m = V.mean(axis=1)\n",
    "m = m[:,np.newaxis]\n",
    "M = V - m\n",
    "C = M.dot(M.T) / (M.shape[1] - 1)\n",
    "print (m)\n",
    "print (C)\n",
    "df1"
   ]
  },
  {
   "cell_type": "markdown",
   "metadata": {},
   "source": [
    "### Problem 2\n",
    "\n",
    "The attached [CSV](E1-Problem2.csv) file contains a number measurements. Considering that the measurements are expensive to perform, a student decided to estimate the relation of the two quantities and estimate the missing measurements.\n",
    "\n",
    "1. Run and comment the code (3 pts)\n",
    "0. Describe the method that the program implements and the underlying assumptions (2 pts)\n",
    "0. What is the family of functions the student considered? What is the formula? (2 pts) \n",
    "0. What would be a better formula to use and why? (2 pts)\n",
    "0. Change the code to implement your proposal and rerun the analysis (3 pts)\n",
    "0. What value of *n* would be your preference and why? (2 pts)\n",
    "\n",
    "Total of 14 points"
   ]
  },
  {
   "cell_type": "code",
   "execution_count": null,
   "metadata": {},
   "outputs": [],
   "source": [
    "df = pd.read_csv(\"E1-Problem2.csv\")\n",
    "plt.figure(figsize=(12,8))\n",
    "plt.scatter(df.x, df.y, c='k', label='data')\n",
    "\n",
    "def ser(x, n):\n",
    "    X = np.ones( (x.size, n+1) )\n",
    "    for i in range(1, n+1):\n",
    "        X[:,i] = np.cos(i * x)\n",
    "    return X    \n",
    "    \n",
    "xmin, xmax = df.x.min(), df.x.max()\n",
    "x = np.linspace(xmin-1, xmax+1, 100) \n",
    "\n",
    "for n in range(1,7):\n",
    "    X = ser(df.x, n)  \n",
    "    b = np.linalg.inv(X.T.dot(X)).dot(X.T).dot(df.y)\n",
    "    mse = np.square(X.dot(b)-df.y).mean()\n",
    "    y = ser(x,n).dot(b) \n",
    "    plt.plot(x, y, '-', label=mse);     \n",
    "    \n",
    "plt.ylim(-10,15)\n",
    "plt.legend();"
   ]
  }
 ],
 "metadata": {
  "kernelspec": {
   "display_name": "Python 3",
   "language": "python",
   "name": "python3"
  },
  "language_info": {
   "codemirror_mode": {
    "name": "ipython",
    "version": 3
   },
   "file_extension": ".py",
   "mimetype": "text/x-python",
   "name": "python",
   "nbconvert_exporter": "python",
   "pygments_lexer": "ipython3",
   "version": "3.6.4"
  }
 },
 "nbformat": 4,
 "nbformat_minor": 2
}

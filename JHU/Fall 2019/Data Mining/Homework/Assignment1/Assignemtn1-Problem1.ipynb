{
 "cells": [
  {
   "cell_type": "markdown",
   "metadata": {},
   "source": [
    "### Problem 1\n",
    "\n",
    "Characterize the data set in this [CSV](A1-Problem1.csv) file using descriptive statistics.\n",
    "The comma-separated separated file contains just 1 column and 1000 rows.\n",
    "\n",
    "\n",
    "1. Load the data, e.g., using routines in `numpy` or `pandas` (1 pt)\n",
    "2. Calculate the relevant quantitative measures: mean, variance, skewness, kurtoisis (1 pt)\n",
    "3. Create a histogram of the data and plot it  (1 pt)\n",
    "4. Use KDE with Gaussian kernels to approximate the density and compare that visually to the histogram (2 pts)\n",
    "5. Summarize the results with your own words (1 pt)\n",
    "\n",
    "Total of 6 points"
   ]
  },
  {
   "cell_type": "code",
   "execution_count": 1,
   "metadata": {},
   "outputs": [
    {
     "name": "stdout",
     "output_type": "stream",
     "text": [
      "Populating the interactive namespace from numpy and matplotlib\n"
     ]
    }
   ],
   "source": [
    "%pylab inline "
   ]
  },
  {
   "cell_type": "code",
   "execution_count": 2,
   "metadata": {},
   "outputs": [],
   "source": [
    "import pandas as pd \n",
    "import numpy as np \n",
    "import matplotlib.pyplot as plt"
   ]
  },
  {
   "cell_type": "code",
   "execution_count": 3,
   "metadata": {},
   "outputs": [],
   "source": [
    "def normMoments(X,k,xbar,N,s):\n",
    "    return np.sum((X-xbar)**k , axis =0)/((N-1)*s**k);"
   ]
  },
  {
   "cell_type": "markdown",
   "metadata": {},
   "source": [
    "#### Loading the data, e.g., using routines in `numpy` or `pandas`"
   ]
  },
  {
   "cell_type": "code",
   "execution_count": 4,
   "metadata": {},
   "outputs": [],
   "source": [
    "Data = pd.read_csv('A1-Problem1.csv');\n",
    "X = Data.to_numpy()"
   ]
  },
  {
   "cell_type": "markdown",
   "metadata": {},
   "source": [
    "#### Calculate the relevant quantitative measures: mean, variance, skewness, kurtoisis"
   ]
  },
  {
   "cell_type": "code",
   "execution_count": 23,
   "metadata": {},
   "outputs": [
    {
     "name": "stdout",
     "output_type": "stream",
     "text": [
      "The Average of the data set is -48.855055\n",
      "The Variance of the data set is 0.405763\n",
      "The Skeweness of the data set is 2.527032\n",
      "The Kurtoisis of the data set is 11.448408\n"
     ]
    }
   ],
   "source": [
    "N   = len(X);\n",
    "avg = np.mean(X);\n",
    "s2  = np.sum( (X-avg)**2, axis=0) /(N-1);\n",
    "s   = np.sqrt(s2) ;\n",
    "\n",
    "\n",
    "skeweness = normMoments(X,3,avg,N,s);\n",
    "kurtoisis = normMoments(X,4,avg,N,s);\n",
    "\n",
    "print ('The Average of the data set is %f' % (avg))\n",
    "print ('The Variance of the data set is %f' % (s2))\n",
    "print ('The Skeweness of the data set is %f' % (skeweness))\n",
    "print ('The Kurtoisis of the data set is %f' % (kurtoisis))"
   ]
  },
  {
   "cell_type": "markdown",
   "metadata": {},
   "source": [
    "#### Create a histogram of the data and plot it"
   ]
  },
  {
   "cell_type": "code",
   "execution_count": 7,
   "metadata": {},
   "outputs": [
    {
     "data": {
      "text/plain": [
       "(array([160., 371., 269., 124.,  30.,  13.,   4.,   3.,   1.,  24.]),\n",
       " array([-49.7 , -49.31, -48.92, -48.53, -48.14, -47.75, -47.36, -46.97,\n",
       "        -46.58, -46.19, -45.8 ]),\n",
       " <a list of 10 Patch objects>)"
      ]
     },
     "execution_count": 7,
     "metadata": {},
     "output_type": "execute_result"
    },
    {
     "data": {
      "image/png": "[encoded data removed]",
      "text/plain": [
       "<Figure size 432x288 with 1 Axes>"
      ]
     },
     "metadata": {
      "needs_background": "light"
     },
     "output_type": "display_data"
    }
   ],
   "source": [
    "hist(X)"
   ]
  },
  {
   "cell_type": "code",
   "execution_count": 8,
   "metadata": {},
   "outputs": [],
   "source": [
    "def Gaussian_kernel(x):\n",
    "    return np.exp(-(np.linalg.norm(x, axis=2))**2/2) / (2*np.pi)**(1/2)\n",
    "\n",
    "def kernel_density_estimator(U, X, h):\n",
    "    return np.mean(Gaussian_kernel((U[:,newaxis]-X)/h), axis = 1) / h"
   ]
  },
  {
   "cell_type": "markdown",
   "metadata": {},
   "source": [
    "#### Use KDE with Gaussian kernels to approximate the density and compare that visually to the histogram"
   ]
  },
  {
   "cell_type": "code",
   "execution_count": 18,
   "metadata": {},
   "outputs": [
    {
     "data": {
      "image/png": "[encoded data removed]",
      "text/plain": [
       "<Figure size 432x288 with 1 Axes>"
      ]
     },
     "metadata": {
      "needs_background": "light"
     },
     "output_type": "display_data"
    }
   ],
   "source": [
    "X = X.reshape(-1,1)\n",
    "U = np.linspace(min(X),max(X),X.shape[0]).reshape(-1,1)\n",
    "\n",
    "f_u = kernel_density_estimator(U,X,0.075)\n",
    "\n",
    "plot(U,f_u);\n",
    "hist(X,20,density=True);"
   ]
  },
  {
   "cell_type": "markdown",
   "metadata": {},
   "source": [
    "#### Summarize the results with your own words"
   ]
  },
  {
   "cell_type": "markdown",
   "metadata": {},
   "source": [
    "The purpose of a Kernel Density Estimation, is to develop a smooth line that provies the best estimation of a random variable at a given point. For this problem we were given a data set of a thousand random variables. As such, a KDE with Gaussian Kernals was used to develop an estimation of the random variables. In order to achieve the best estimation, an H = 0.075 was used to develp the f_u "
   ]
  }
 ],
 "metadata": {
  "kernelspec": {
   "display_name": "Python 3",
   "language": "python",
   "name": "python3"
  },
  "language_info": {
   "codemirror_mode": {
    "name": "ipython",
    "version": 3
   },
   "file_extension": ".py",
   "mimetype": "text/x-python",
   "name": "python",
   "nbconvert_exporter": "python",
   "pygments_lexer": "ipython3",
   "version": "3.7.3"
  }
 },
 "nbformat": 4,
 "nbformat_minor": 4
}

{
 "cells": [
  {
   "cell_type": "code",
   "execution_count": 1,
   "metadata": {},
   "outputs": [
    {
     "name": "stdout",
     "output_type": "stream",
     "text": [
      "Populating the interactive namespace from numpy and matplotlib\n"
     ]
    }
   ],
   "source": [
    "%pylab inline "
   ]
  },
  {
   "cell_type": "markdown",
   "metadata": {},
   "source": [
    "### Problem 3\n",
    "\n",
    "Draw random samples from a bivariate normal distribution with \n",
    "\n",
    "> $\\displaystyle \\quad \\mu = \\begin{bmatrix} 1 \\\\ 0\\end{bmatrix} \\quad$ \n",
    "> and \n",
    "> $\\displaystyle \\quad C = \\begin{bmatrix} 2 & -1 \\\\ -1 & 2\\end{bmatrix}$\n",
    "\n",
    "1. Generate 200 random numbers that are normally distributed, call this array `X` (1 pt)\n",
    "2. Reshape `X` to be 2 by 100 representing 100 random 2-vectors, and plot these 2-D points (1 pt)\n",
    "2. Solve the eigenproblem of the covariance matrix (1 pt)\n",
    "3. Use the eigenvalues and eigenvectors to transform `X` and calculate the final sample `Z` drawn from the bivariate normal distribution with the above $\\mu$ and $C$ (2 pts)\n",
    "4. Plot the samples (1 pt)\n",
    "\n",
    "Total of 6 points"
   ]
  },
  {
   "cell_type": "code",
   "execution_count": 2,
   "metadata": {},
   "outputs": [],
   "source": [
    "import numpy as np\n",
    "import pandas as pd\n",
    "import matplotlib.pyplot as plt"
   ]
  },
  {
   "cell_type": "markdown",
   "metadata": {},
   "source": [
    "### Generate 200 random numbers that are normally distributed, call this array `X`"
   ]
  },
  {
   "cell_type": "code",
   "execution_count": 3,
   "metadata": {},
   "outputs": [],
   "source": [
    "mu = matrix('1;0')\n",
    "C  = matrix('2,-1;-1,2')\n",
    "X  = np.random.normal(loc = 0, scale = 1, size =200)"
   ]
  },
  {
   "cell_type": "markdown",
   "metadata": {},
   "source": [
    "#### Reshape `X` to be 2 by 100 representing 100 random 2-vectors, and plot these 2-D points"
   ]
  },
  {
   "cell_type": "code",
   "execution_count": 4,
   "metadata": {},
   "outputs": [
    {
     "data": {
      "image/png": "[encoded data removed]",
      "text/plain": [
       "<Figure size 432x288 with 1 Axes>"
      ]
     },
     "metadata": {
      "needs_background": "light"
     },
     "output_type": "display_data"
    }
   ],
   "source": [
    "Xp = reshape(X,(2,100))\n",
    "plot(Xp[0],Xp[1],'bo');"
   ]
  },
  {
   "cell_type": "markdown",
   "metadata": {},
   "source": [
    "#### Solve the eigenproblem of the covariance matrix"
   ]
  },
  {
   "cell_type": "code",
   "execution_count": 5,
   "metadata": {},
   "outputs": [],
   "source": [
    "L, E = np.linalg.eig(C)\n",
    "Li =  diag(L)"
   ]
  },
  {
   "cell_type": "markdown",
   "metadata": {},
   "source": [
    "#### Use the eigenvalues and eigenvectors to transform `X` and calculate the final sample `Z` drawn from the bivariate normal distribution with the above $\\mu$ and $C$"
   ]
  },
  {
   "cell_type": "code",
   "execution_count": 11,
   "metadata": {},
   "outputs": [],
   "source": [
    "A =  E.dot(sqrt(Li)).dot(Xp)\n",
    "Ap = A + mu"
   ]
  },
  {
   "cell_type": "markdown",
   "metadata": {},
   "source": [
    "#### Plot the samples"
   ]
  },
  {
   "cell_type": "code",
   "execution_count": 11,
   "metadata": {},
   "outputs": [
    {
     "data": {
      "image/png": "[encoded data removed]",
      "text/plain": [
       "<Figure size 432x288 with 1 Axes>"
      ]
     },
     "metadata": {
      "needs_background": "light"
     },
     "output_type": "display_data"
    }
   ],
   "source": [
    "plot(Ap[0],Ap[1],'ro');"
   ]
  },
  {
   "cell_type": "markdown",
   "metadata": {},
   "source": [
    "#### Display Covariance and Mean of Data set Z to check if Z is valid"
   ]
  },
  {
   "cell_type": "code",
   "execution_count": 17,
   "metadata": {},
   "outputs": [
    {
     "name": "stdout",
     "output_type": "stream",
     "text": [
      "The Mean of the data set is 1.234788 and -0.113010\n",
      "The Covariance of the data set Z is:\n",
      "[[ 2.10684265 -0.81575592]\n",
      " [-0.81575592  1.60592962]]\n"
     ]
    }
   ],
   "source": [
    "print ('The Mean of the data set is %f and %f' % (np.mean(Ap[0]),np.mean(Ap[1])))\n",
    "print ('The Covariance of the data set Z is:')\n",
    "print(np.cov(Ap))"
   ]
  }
 ],
 "metadata": {
  "kernelspec": {
   "display_name": "Python 3",
   "language": "python",
   "name": "python3"
  },
  "language_info": {
   "codemirror_mode": {
    "name": "ipython",
    "version": 3
   },
   "file_extension": ".py",
   "mimetype": "text/x-python",
   "name": "python",
   "nbconvert_exporter": "python",
   "pygments_lexer": "ipython3",
   "version": "3.7.3"
  }
 },
 "nbformat": 4,
 "nbformat_minor": 4
}

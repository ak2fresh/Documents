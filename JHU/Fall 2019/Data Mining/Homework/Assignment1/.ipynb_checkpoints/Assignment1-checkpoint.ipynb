{
 "cells": [
  {
   "cell_type": "markdown",
   "metadata": {
    "slideshow": {
     "slide_type": "slide"
    }
   },
   "source": [
    "<hr/>\n",
    "\n",
    "# Data Mining\n",
    "\n",
    "\n",
    "<hr/>"
   ]
  },
  {
   "cell_type": "markdown",
   "metadata": {
    "slideshow": {
     "slide_type": "slide"
    }
   },
   "source": [
    "<h2><font color=\"darkblue\">Assignment 1</font></h2>\n",
    "\n",
    "For these problems, you can use any of the `numpy` and `matplotlib` routines but not those in `scipy` or `sklearn`\n",
    "\n",
    "#### Deadline\n",
    "Homework is due in a week, and should be submitted on Blackboard. Don't wait till the last minute!\n",
    "\n",
    "####  Work alone!\n",
    "Please work on your own solving these assignments! "
   ]
  },
  {
   "cell_type": "code",
   "execution_count": null,
   "metadata": {},
   "outputs": [],
   "source": [
    "%pylab inline"
   ]
  },
  {
   "cell_type": "markdown",
   "metadata": {},
   "source": [
    "\n",
    "### Problem 1\n",
    "\n",
    "Characterize the data set in this [CSV](A1-Problem1.csv) file using descriptive statistics.\n",
    "The comma-separated separated file contains just 1 column and 1000 rows.\n",
    "\n",
    "\n",
    "1. Load the data, e.g., using routines in `numpy` or `pandas` (1 pt)\n",
    "2. Calculate the relevant quantitative measures: mean, variance, skewness, kurtoisis (1 pt)\n",
    "3. Create a histogram of the data and plot it  (1 pt)\n",
    "4. Use KDE with Gaussian kernels to approximate the density and compare that visually to the histogram (2 pts)\n",
    "5. Summarize the results with your own words (1 pt)\n",
    "\n",
    "Total of 6 points"
   ]
  },
  {
   "cell_type": "code",
   "execution_count": null,
   "metadata": {},
   "outputs": [],
   "source": []
  },
  {
   "cell_type": "markdown",
   "metadata": {},
   "source": [
    "### Problem 2\n",
    "\n",
    "Generate random license tags with the format `123-ABC`\n",
    "\n",
    "1. Generate a random 3 digit integer (1 pt)\n",
    "2. Generate a string of 3 random characters (1 pt)\n",
    "3. Create a `pandas.Dataframe` that contains 25 licence tag numbers of the above format (1 pt)\n",
    "\n",
    "Total of 3 points"
   ]
  },
  {
   "cell_type": "code",
   "execution_count": null,
   "metadata": {},
   "outputs": [],
   "source": []
  },
  {
   "cell_type": "markdown",
   "metadata": {},
   "source": [
    "### Problem 3\n",
    "\n",
    "Draw random samples from a bivariate normal distribution with \n",
    "\n",
    "> $\\displaystyle \\quad \\mu = \\begin{bmatrix} 1 \\\\ 0\\end{bmatrix} \\quad$ \n",
    "> and \n",
    "> $\\displaystyle \\quad C = \\begin{bmatrix} 2 & -1 \\\\ -1 & 2\\end{bmatrix}$\n",
    "\n",
    "1. Generate 200 random numbers that are normally distributed, call this array `X` (1 pt)\n",
    "2. Reshape `X` to be 2 by 100 representing 100 random 2-vectors, and plot these 2-D points (1 pt)\n",
    "2. Solve the eigenproblem of the covariance matrix (1 pt)\n",
    "3. Use the eigenvalues and eigenvectors to transform `X` and calculate the final sample `Z` drawn from the bivariate normal distribution with the above $\\mu$ and $C$ (2 pts)\n",
    "4. Plot the samples (1 pt)\n",
    "\n",
    "Total of 6 points"
   ]
  },
  {
   "cell_type": "code",
   "execution_count": null,
   "metadata": {},
   "outputs": [],
   "source": []
  }
 ],
 "metadata": {
  "anaconda-cloud": {},
  "kernelspec": {
   "display_name": "Python 3",
   "language": "python",
   "name": "python3"
  },
  "language_info": {
   "codemirror_mode": {
    "name": "ipython",
    "version": 3
   },
   "file_extension": ".py",
   "mimetype": "text/x-python",
   "name": "python",
   "nbconvert_exporter": "python",
   "pygments_lexer": "ipython3",
   "version": "3.7.3"
  }
 },
 "nbformat": 4,
 "nbformat_minor": 4
}

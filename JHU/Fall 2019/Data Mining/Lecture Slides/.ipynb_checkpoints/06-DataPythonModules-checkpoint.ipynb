{
 "cells": [
  {
   "cell_type": "markdown",
   "metadata": {},
   "source": [
    "<hr/>\n",
    "\n",
    "# Data Mining\n",
    "**Tamás Budavári** - budavari@jhu.edu <br/>\n",
    "**Class 6** \n",
    "\n",
    "- Useful Python modules\n",
    "\n",
    "<hr/>"
   ]
  },
  {
   "cell_type": "code",
   "execution_count": 1,
   "metadata": {},
   "outputs": [
    {
     "name": "stdout",
     "output_type": "stream",
     "text": [
      "Populating the interactive namespace from numpy and matplotlib\n"
     ]
    }
   ],
   "source": [
    "%pylab inline"
   ]
  },
  {
   "cell_type": "code",
   "execution_count": 2,
   "metadata": {},
   "outputs": [],
   "source": [
    "from IPython.display import display"
   ]
  },
  {
   "cell_type": "code",
   "execution_count": 3,
   "metadata": {},
   "outputs": [
    {
     "data": {
      "text/plain": [
       "array([[-0.48404485,  0.71283135,  1.12559722, -2.02083937],\n",
       "       [ 0.54785426,  1.03776441,  0.65974278, -0.89041458],\n",
       "       [ 0.88077622, -1.15455777, -0.38767528,  0.08175767],\n",
       "       [-1.02844204,  0.10360133, -1.43219362,  0.04280515],\n",
       "       [ 1.66440053, -1.63150874,  0.16137786,  1.02472673],\n",
       "       [-0.9665182 , -0.99282147,  2.606573  , -0.41543817]])"
      ]
     },
     "execution_count": 3,
     "metadata": {},
     "output_type": "execute_result"
    }
   ],
   "source": [
    "m = np.random.randn(6,4)\n",
    "m"
   ]
  },
  {
   "cell_type": "code",
   "execution_count": 4,
   "metadata": {},
   "outputs": [],
   "source": [
    "import pandas as pd"
   ]
  },
  {
   "cell_type": "code",
   "execution_count": 5,
   "metadata": {},
   "outputs": [
    {
     "data": {
      "text/html": [
       "<div>\n",
       "<style scoped>\n",
       "    .dataframe tbody tr th:only-of-type {\n",
       "        vertical-align: middle;\n",
       "    }\n",
       "\n",
       "    .dataframe tbody tr th {\n",
       "        vertical-align: top;\n",
       "    }\n",
       "\n",
       "    .dataframe thead th {\n",
       "        text-align: right;\n",
       "    }\n",
       "</style>\n",
       "<table border=\"1\" class=\"dataframe\">\n",
       "  <thead>\n",
       "    <tr style=\"text-align: right;\">\n",
       "      <th></th>\n",
       "      <th>0</th>\n",
       "      <th>1</th>\n",
       "      <th>2</th>\n",
       "      <th>3</th>\n",
       "    </tr>\n",
       "  </thead>\n",
       "  <tbody>\n",
       "    <tr>\n",
       "      <th>0</th>\n",
       "      <td>-0.484045</td>\n",
       "      <td>0.712831</td>\n",
       "      <td>1.125597</td>\n",
       "      <td>-2.020839</td>\n",
       "    </tr>\n",
       "    <tr>\n",
       "      <th>1</th>\n",
       "      <td>0.547854</td>\n",
       "      <td>1.037764</td>\n",
       "      <td>0.659743</td>\n",
       "      <td>-0.890415</td>\n",
       "    </tr>\n",
       "    <tr>\n",
       "      <th>2</th>\n",
       "      <td>0.880776</td>\n",
       "      <td>-1.154558</td>\n",
       "      <td>-0.387675</td>\n",
       "      <td>0.081758</td>\n",
       "    </tr>\n",
       "    <tr>\n",
       "      <th>3</th>\n",
       "      <td>-1.028442</td>\n",
       "      <td>0.103601</td>\n",
       "      <td>-1.432194</td>\n",
       "      <td>0.042805</td>\n",
       "    </tr>\n",
       "    <tr>\n",
       "      <th>4</th>\n",
       "      <td>1.664401</td>\n",
       "      <td>-1.631509</td>\n",
       "      <td>0.161378</td>\n",
       "      <td>1.024727</td>\n",
       "    </tr>\n",
       "    <tr>\n",
       "      <th>5</th>\n",
       "      <td>-0.966518</td>\n",
       "      <td>-0.992821</td>\n",
       "      <td>2.606573</td>\n",
       "      <td>-0.415438</td>\n",
       "    </tr>\n",
       "  </tbody>\n",
       "</table>\n",
       "</div>"
      ],
      "text/plain": [
       "          0         1         2         3\n",
       "0 -0.484045  0.712831  1.125597 -2.020839\n",
       "1  0.547854  1.037764  0.659743 -0.890415\n",
       "2  0.880776 -1.154558 -0.387675  0.081758\n",
       "3 -1.028442  0.103601 -1.432194  0.042805\n",
       "4  1.664401 -1.631509  0.161378  1.024727\n",
       "5 -0.966518 -0.992821  2.606573 -0.415438"
      ]
     },
     "execution_count": 5,
     "metadata": {},
     "output_type": "execute_result"
    }
   ],
   "source": [
    "df = pd.DataFrame(m)\n",
    "df"
   ]
  },
  {
   "cell_type": "code",
   "execution_count": 6,
   "metadata": {},
   "outputs": [
    {
     "data": {
      "text/plain": [
       "DatetimeIndex(['2012-12-29', '2012-12-30', '2012-12-31', '2013-01-01',\n",
       "               '2013-01-02', '2013-01-03'],\n",
       "              dtype='datetime64[ns]', freq='D')"
      ]
     },
     "execution_count": 6,
     "metadata": {},
     "output_type": "execute_result"
    }
   ],
   "source": [
    "dates = pd.date_range('2012-12-29', periods=m.shape[0]);\n",
    "dates"
   ]
  },
  {
   "cell_type": "code",
   "execution_count": 7,
   "metadata": {},
   "outputs": [
    {
     "data": {
      "text/html": [
       "<div>\n",
       "<style scoped>\n",
       "    .dataframe tbody tr th:only-of-type {\n",
       "        vertical-align: middle;\n",
       "    }\n",
       "\n",
       "    .dataframe tbody tr th {\n",
       "        vertical-align: top;\n",
       "    }\n",
       "\n",
       "    .dataframe thead th {\n",
       "        text-align: right;\n",
       "    }\n",
       "</style>\n",
       "<table border=\"1\" class=\"dataframe\">\n",
       "  <thead>\n",
       "    <tr style=\"text-align: right;\">\n",
       "      <th></th>\n",
       "      <th>A</th>\n",
       "      <th>B</th>\n",
       "      <th>C</th>\n",
       "      <th>D</th>\n",
       "    </tr>\n",
       "    <tr>\n",
       "      <th>Dates</th>\n",
       "      <th></th>\n",
       "      <th></th>\n",
       "      <th></th>\n",
       "      <th></th>\n",
       "    </tr>\n",
       "  </thead>\n",
       "  <tbody>\n",
       "    <tr>\n",
       "      <th>2012-12-29</th>\n",
       "      <td>-0.484045</td>\n",
       "      <td>0.712831</td>\n",
       "      <td>1.125597</td>\n",
       "      <td>-2.020839</td>\n",
       "    </tr>\n",
       "    <tr>\n",
       "      <th>2012-12-30</th>\n",
       "      <td>0.547854</td>\n",
       "      <td>1.037764</td>\n",
       "      <td>0.659743</td>\n",
       "      <td>-0.890415</td>\n",
       "    </tr>\n",
       "    <tr>\n",
       "      <th>2012-12-31</th>\n",
       "      <td>0.880776</td>\n",
       "      <td>-1.154558</td>\n",
       "      <td>-0.387675</td>\n",
       "      <td>0.081758</td>\n",
       "    </tr>\n",
       "    <tr>\n",
       "      <th>2013-01-01</th>\n",
       "      <td>-1.028442</td>\n",
       "      <td>0.103601</td>\n",
       "      <td>-1.432194</td>\n",
       "      <td>0.042805</td>\n",
       "    </tr>\n",
       "    <tr>\n",
       "      <th>2013-01-02</th>\n",
       "      <td>1.664401</td>\n",
       "      <td>-1.631509</td>\n",
       "      <td>0.161378</td>\n",
       "      <td>1.024727</td>\n",
       "    </tr>\n",
       "    <tr>\n",
       "      <th>2013-01-03</th>\n",
       "      <td>-0.966518</td>\n",
       "      <td>-0.992821</td>\n",
       "      <td>2.606573</td>\n",
       "      <td>-0.415438</td>\n",
       "    </tr>\n",
       "  </tbody>\n",
       "</table>\n",
       "</div>"
      ],
      "text/plain": [
       "                   A         B         C         D\n",
       "Dates                                             \n",
       "2012-12-29 -0.484045  0.712831  1.125597 -2.020839\n",
       "2012-12-30  0.547854  1.037764  0.659743 -0.890415\n",
       "2012-12-31  0.880776 -1.154558 -0.387675  0.081758\n",
       "2013-01-01 -1.028442  0.103601 -1.432194  0.042805\n",
       "2013-01-02  1.664401 -1.631509  0.161378  1.024727\n",
       "2013-01-03 -0.966518 -0.992821  2.606573 -0.415438"
      ]
     },
     "execution_count": 7,
     "metadata": {},
     "output_type": "execute_result"
    }
   ],
   "source": [
    "df = pd.DataFrame(m, index=dates, columns=list('ABCD'))\n",
    "df.index.name = 'Dates'\n",
    "df"
   ]
  },
  {
   "cell_type": "code",
   "execution_count": 8,
   "metadata": {},
   "outputs": [
    {
     "data": {
      "text/html": [
       "<div>\n",
       "<style scoped>\n",
       "    .dataframe tbody tr th:only-of-type {\n",
       "        vertical-align: middle;\n",
       "    }\n",
       "\n",
       "    .dataframe tbody tr th {\n",
       "        vertical-align: top;\n",
       "    }\n",
       "\n",
       "    .dataframe thead th {\n",
       "        text-align: right;\n",
       "    }\n",
       "</style>\n",
       "<table border=\"1\" class=\"dataframe\">\n",
       "  <thead>\n",
       "    <tr style=\"text-align: right;\">\n",
       "      <th></th>\n",
       "      <th>A</th>\n",
       "      <th>B</th>\n",
       "      <th>C</th>\n",
       "      <th>D</th>\n",
       "    </tr>\n",
       "    <tr>\n",
       "      <th>Dates</th>\n",
       "      <th></th>\n",
       "      <th></th>\n",
       "      <th></th>\n",
       "      <th></th>\n",
       "    </tr>\n",
       "  </thead>\n",
       "  <tbody>\n",
       "    <tr>\n",
       "      <th>2012-12-29</th>\n",
       "      <td>-0.484045</td>\n",
       "      <td>0.712831</td>\n",
       "      <td>1.125597</td>\n",
       "      <td>-2.020839</td>\n",
       "    </tr>\n",
       "    <tr>\n",
       "      <th>2012-12-30</th>\n",
       "      <td>0.547854</td>\n",
       "      <td>1.037764</td>\n",
       "      <td>0.659743</td>\n",
       "      <td>-0.890415</td>\n",
       "    </tr>\n",
       "    <tr>\n",
       "      <th>2012-12-31</th>\n",
       "      <td>0.880776</td>\n",
       "      <td>-1.154558</td>\n",
       "      <td>-0.387675</td>\n",
       "      <td>0.081758</td>\n",
       "    </tr>\n",
       "    <tr>\n",
       "      <th>2013-01-01</th>\n",
       "      <td>-1.028442</td>\n",
       "      <td>0.103601</td>\n",
       "      <td>-1.432194</td>\n",
       "      <td>0.042805</td>\n",
       "    </tr>\n",
       "    <tr>\n",
       "      <th>2013-01-02</th>\n",
       "      <td>1.664401</td>\n",
       "      <td>-1.631509</td>\n",
       "      <td>0.161378</td>\n",
       "      <td>1.024727</td>\n",
       "    </tr>\n",
       "    <tr>\n",
       "      <th>2013-01-03</th>\n",
       "      <td>-0.966518</td>\n",
       "      <td>-0.992821</td>\n",
       "      <td>2.606573</td>\n",
       "      <td>-0.415438</td>\n",
       "    </tr>\n",
       "  </tbody>\n",
       "</table>\n",
       "</div>"
      ],
      "text/plain": [
       "                   A         B         C         D\n",
       "Dates                                             \n",
       "2012-12-29 -0.484045  0.712831  1.125597 -2.020839\n",
       "2012-12-30  0.547854  1.037764  0.659743 -0.890415\n",
       "2012-12-31  0.880776 -1.154558 -0.387675  0.081758\n",
       "2013-01-01 -1.028442  0.103601 -1.432194  0.042805\n",
       "2013-01-02  1.664401 -1.631509  0.161378  1.024727\n",
       "2013-01-03 -0.966518 -0.992821  2.606573 -0.415438"
      ]
     },
     "metadata": {},
     "output_type": "display_data"
    }
   ],
   "source": [
    "display(df)"
   ]
  },
  {
   "cell_type": "code",
   "execution_count": 9,
   "metadata": {},
   "outputs": [
    {
     "data": {
      "text/plain": [
       "Dates\n",
       "2012-12-29   -0.484045\n",
       "2012-12-30    0.547854\n",
       "2012-12-31    0.880776\n",
       "2013-01-01   -1.028442\n",
       "2013-01-02    1.664401\n",
       "2013-01-03   -0.966518\n",
       "Freq: D, Name: A, dtype: float64"
      ]
     },
     "execution_count": 9,
     "metadata": {},
     "output_type": "execute_result"
    }
   ],
   "source": [
    "df['A']"
   ]
  },
  {
   "cell_type": "code",
   "execution_count": 10,
   "metadata": {},
   "outputs": [
    {
     "data": {
      "text/plain": [
       "Dates\n",
       "2012-12-29   -0.484045\n",
       "2012-12-30    0.547854\n",
       "2012-12-31    0.880776\n",
       "2013-01-01   -1.028442\n",
       "2013-01-02    1.664401\n",
       "2013-01-03   -0.966518\n",
       "Freq: D, Name: A, dtype: float64"
      ]
     },
     "execution_count": 10,
     "metadata": {},
     "output_type": "execute_result"
    }
   ],
   "source": [
    "df.A"
   ]
  },
  {
   "cell_type": "code",
   "execution_count": 11,
   "metadata": {},
   "outputs": [
    {
     "data": {
      "text/plain": [
       "Dates\n",
       "2012-12-29   -0.484045\n",
       "2012-12-30    0.547854\n",
       "2012-12-31    0.880776\n",
       "2013-01-01   -1.028442\n",
       "2013-01-02    1.664401\n",
       "2013-01-03   -0.966518\n",
       "Freq: D, Name: A, dtype: float64"
      ]
     },
     "metadata": {},
     "output_type": "display_data"
    },
    {
     "data": {
      "text/plain": [
       "Dates\n",
       "2012-12-29    0.712831\n",
       "2012-12-30    1.037764\n",
       "2012-12-31   -1.154558\n",
       "2013-01-01    0.103601\n",
       "2013-01-02   -1.631509\n",
       "2013-01-03   -0.992821\n",
       "Freq: D, Name: B, dtype: float64"
      ]
     },
     "metadata": {},
     "output_type": "display_data"
    },
    {
     "data": {
      "text/plain": [
       "Dates\n",
       "2012-12-29    1.125597\n",
       "2012-12-30    0.659743\n",
       "2012-12-31   -0.387675\n",
       "2013-01-01   -1.432194\n",
       "2013-01-02    0.161378\n",
       "2013-01-03    2.606573\n",
       "Freq: D, Name: C, dtype: float64"
      ]
     },
     "metadata": {},
     "output_type": "display_data"
    },
    {
     "data": {
      "text/plain": [
       "Dates\n",
       "2012-12-29   -2.020839\n",
       "2012-12-30   -0.890415\n",
       "2012-12-31    0.081758\n",
       "2013-01-01    0.042805\n",
       "2013-01-02    1.024727\n",
       "2013-01-03   -0.415438\n",
       "Freq: D, Name: D, dtype: float64"
      ]
     },
     "metadata": {},
     "output_type": "display_data"
    }
   ],
   "source": [
    "for k in df.columns:\n",
    "    display (df[k])"
   ]
  },
  {
   "cell_type": "code",
   "execution_count": 12,
   "metadata": {
    "scrolled": true
   },
   "outputs": [
    {
     "data": {
      "image/png": "[encoded data removed]",
      "text/plain": [
       "<Figure size 432x288 with 1 Axes>"
      ]
     },
     "metadata": {
      "needs_background": "light"
     },
     "output_type": "display_data"
    }
   ],
   "source": [
    "df.plot();"
   ]
  },
  {
   "cell_type": "code",
   "execution_count": 13,
   "metadata": {},
   "outputs": [
    {
     "data": {
      "image/png": "[encoded data removed]",
      "text/plain": [
       "<Figure size 432x288 with 1 Axes>"
      ]
     },
     "metadata": {
      "needs_background": "light"
     },
     "output_type": "display_data"
    }
   ],
   "source": [
    "df.A.plot();\n",
    "df['B'].plot();"
   ]
  },
  {
   "cell_type": "code",
   "execution_count": 14,
   "metadata": {},
   "outputs": [
    {
     "data": {
      "text/plain": [
       "array([[-0.48404485,  0.71283135,  1.12559722, -2.02083937],\n",
       "       [ 0.54785426,  1.03776441,  0.65974278, -0.89041458],\n",
       "       [ 0.88077622, -1.15455777, -0.38767528,  0.08175767],\n",
       "       [-1.02844204,  0.10360133, -1.43219362,  0.04280515],\n",
       "       [ 1.66440053, -1.63150874,  0.16137786,  1.02472673],\n",
       "       [-0.9665182 , -0.99282147,  2.606573  , -0.41543817]])"
      ]
     },
     "execution_count": 14,
     "metadata": {},
     "output_type": "execute_result"
    }
   ],
   "source": [
    "df.values"
   ]
  },
  {
   "cell_type": "markdown",
   "metadata": {},
   "source": [
    "## Data in Files\n",
    "\n",
    "- Comma Separated Value (CSV) "
   ]
  },
  {
   "cell_type": "code",
   "execution_count": 15,
   "metadata": {},
   "outputs": [],
   "source": [
    "# save the dataframe\n",
    "df.to_csv('random.csv')"
   ]
  },
  {
   "cell_type": "code",
   "execution_count": 16,
   "metadata": {},
   "outputs": [
    {
     "data": {
      "text/html": [
       "<div>\n",
       "<style scoped>\n",
       "    .dataframe tbody tr th:only-of-type {\n",
       "        vertical-align: middle;\n",
       "    }\n",
       "\n",
       "    .dataframe tbody tr th {\n",
       "        vertical-align: top;\n",
       "    }\n",
       "\n",
       "    .dataframe thead th {\n",
       "        text-align: right;\n",
       "    }\n",
       "</style>\n",
       "<table border=\"1\" class=\"dataframe\">\n",
       "  <thead>\n",
       "    <tr style=\"text-align: right;\">\n",
       "      <th></th>\n",
       "      <th>A</th>\n",
       "      <th>B</th>\n",
       "      <th>C</th>\n",
       "      <th>D</th>\n",
       "    </tr>\n",
       "    <tr>\n",
       "      <th>Dates</th>\n",
       "      <th></th>\n",
       "      <th></th>\n",
       "      <th></th>\n",
       "      <th></th>\n",
       "    </tr>\n",
       "  </thead>\n",
       "  <tbody>\n",
       "    <tr>\n",
       "      <th>2012-12-29</th>\n",
       "      <td>-0.484045</td>\n",
       "      <td>0.712831</td>\n",
       "      <td>1.125597</td>\n",
       "      <td>-2.020839</td>\n",
       "    </tr>\n",
       "    <tr>\n",
       "      <th>2012-12-30</th>\n",
       "      <td>0.547854</td>\n",
       "      <td>1.037764</td>\n",
       "      <td>0.659743</td>\n",
       "      <td>-0.890415</td>\n",
       "    </tr>\n",
       "    <tr>\n",
       "      <th>2012-12-31</th>\n",
       "      <td>0.880776</td>\n",
       "      <td>-1.154558</td>\n",
       "      <td>-0.387675</td>\n",
       "      <td>0.081758</td>\n",
       "    </tr>\n",
       "    <tr>\n",
       "      <th>2013-01-01</th>\n",
       "      <td>-1.028442</td>\n",
       "      <td>0.103601</td>\n",
       "      <td>-1.432194</td>\n",
       "      <td>0.042805</td>\n",
       "    </tr>\n",
       "    <tr>\n",
       "      <th>2013-01-02</th>\n",
       "      <td>1.664401</td>\n",
       "      <td>-1.631509</td>\n",
       "      <td>0.161378</td>\n",
       "      <td>1.024727</td>\n",
       "    </tr>\n",
       "    <tr>\n",
       "      <th>2013-01-03</th>\n",
       "      <td>-0.966518</td>\n",
       "      <td>-0.992821</td>\n",
       "      <td>2.606573</td>\n",
       "      <td>-0.415438</td>\n",
       "    </tr>\n",
       "  </tbody>\n",
       "</table>\n",
       "</div>"
      ],
      "text/plain": [
       "                   A         B         C         D\n",
       "Dates                                             \n",
       "2012-12-29 -0.484045  0.712831  1.125597 -2.020839\n",
       "2012-12-30  0.547854  1.037764  0.659743 -0.890415\n",
       "2012-12-31  0.880776 -1.154558 -0.387675  0.081758\n",
       "2013-01-01 -1.028442  0.103601 -1.432194  0.042805\n",
       "2013-01-02  1.664401 -1.631509  0.161378  1.024727\n",
       "2013-01-03 -0.966518 -0.992821  2.606573 -0.415438"
      ]
     },
     "execution_count": 16,
     "metadata": {},
     "output_type": "execute_result"
    }
   ],
   "source": [
    "# load into new\n",
    "ndf = pd.read_csv('random.csv', index_col='Dates')\n",
    "ndf"
   ]
  },
  {
   "cell_type": "markdown",
   "metadata": {},
   "source": [
    "### Create a file in Excel\n",
    "\n",
    "\n",
    "- Save it as a csv in Excel\n"
   ]
  },
  {
   "cell_type": "code",
   "execution_count": 17,
   "metadata": {},
   "outputs": [
    {
     "data": {
      "text/html": [
       "<div>\n",
       "<style scoped>\n",
       "    .dataframe tbody tr th:only-of-type {\n",
       "        vertical-align: middle;\n",
       "    }\n",
       "\n",
       "    .dataframe tbody tr th {\n",
       "        vertical-align: top;\n",
       "    }\n",
       "\n",
       "    .dataframe thead th {\n",
       "        text-align: right;\n",
       "    }\n",
       "</style>\n",
       "<table border=\"1\" class=\"dataframe\">\n",
       "  <thead>\n",
       "    <tr style=\"text-align: right;\">\n",
       "      <th></th>\n",
       "      <th>X</th>\n",
       "      <th>Y</th>\n",
       "    </tr>\n",
       "  </thead>\n",
       "  <tbody>\n",
       "    <tr>\n",
       "      <th>0</th>\n",
       "      <td>0</td>\n",
       "      <td>0.000000</td>\n",
       "    </tr>\n",
       "    <tr>\n",
       "      <th>1</th>\n",
       "      <td>1</td>\n",
       "      <td>0.099833</td>\n",
       "    </tr>\n",
       "    <tr>\n",
       "      <th>2</th>\n",
       "      <td>2</td>\n",
       "      <td>0.198669</td>\n",
       "    </tr>\n",
       "    <tr>\n",
       "      <th>3</th>\n",
       "      <td>3</td>\n",
       "      <td>0.295520</td>\n",
       "    </tr>\n",
       "    <tr>\n",
       "      <th>4</th>\n",
       "      <td>4</td>\n",
       "      <td>0.389418</td>\n",
       "    </tr>\n",
       "    <tr>\n",
       "      <th>5</th>\n",
       "      <td>5</td>\n",
       "      <td>0.479426</td>\n",
       "    </tr>\n",
       "    <tr>\n",
       "      <th>6</th>\n",
       "      <td>6</td>\n",
       "      <td>0.564642</td>\n",
       "    </tr>\n",
       "    <tr>\n",
       "      <th>7</th>\n",
       "      <td>7</td>\n",
       "      <td>0.644218</td>\n",
       "    </tr>\n",
       "    <tr>\n",
       "      <th>8</th>\n",
       "      <td>8</td>\n",
       "      <td>0.717356</td>\n",
       "    </tr>\n",
       "    <tr>\n",
       "      <th>9</th>\n",
       "      <td>9</td>\n",
       "      <td>0.783327</td>\n",
       "    </tr>\n",
       "    <tr>\n",
       "      <th>10</th>\n",
       "      <td>10</td>\n",
       "      <td>0.841471</td>\n",
       "    </tr>\n",
       "    <tr>\n",
       "      <th>11</th>\n",
       "      <td>11</td>\n",
       "      <td>0.891207</td>\n",
       "    </tr>\n",
       "    <tr>\n",
       "      <th>12</th>\n",
       "      <td>12</td>\n",
       "      <td>0.932039</td>\n",
       "    </tr>\n",
       "    <tr>\n",
       "      <th>13</th>\n",
       "      <td>13</td>\n",
       "      <td>0.963558</td>\n",
       "    </tr>\n",
       "    <tr>\n",
       "      <th>14</th>\n",
       "      <td>14</td>\n",
       "      <td>0.985450</td>\n",
       "    </tr>\n",
       "    <tr>\n",
       "      <th>15</th>\n",
       "      <td>15</td>\n",
       "      <td>0.997495</td>\n",
       "    </tr>\n",
       "    <tr>\n",
       "      <th>16</th>\n",
       "      <td>16</td>\n",
       "      <td>0.999574</td>\n",
       "    </tr>\n",
       "    <tr>\n",
       "      <th>17</th>\n",
       "      <td>17</td>\n",
       "      <td>0.991665</td>\n",
       "    </tr>\n",
       "    <tr>\n",
       "      <th>18</th>\n",
       "      <td>18</td>\n",
       "      <td>0.973848</td>\n",
       "    </tr>\n",
       "    <tr>\n",
       "      <th>19</th>\n",
       "      <td>19</td>\n",
       "      <td>0.946300</td>\n",
       "    </tr>\n",
       "  </tbody>\n",
       "</table>\n",
       "</div>"
      ],
      "text/plain": [
       "     X         Y\n",
       "0    0  0.000000\n",
       "1    1  0.099833\n",
       "2    2  0.198669\n",
       "3    3  0.295520\n",
       "4    4  0.389418\n",
       "5    5  0.479426\n",
       "6    6  0.564642\n",
       "7    7  0.644218\n",
       "8    8  0.717356\n",
       "9    9  0.783327\n",
       "10  10  0.841471\n",
       "11  11  0.891207\n",
       "12  12  0.932039\n",
       "13  13  0.963558\n",
       "14  14  0.985450\n",
       "15  15  0.997495\n",
       "16  16  0.999574\n",
       "17  17  0.991665\n",
       "18  18  0.973848\n",
       "19  19  0.946300"
      ]
     },
     "execution_count": 17,
     "metadata": {},
     "output_type": "execute_result"
    },
    {
     "data": {
      "image/png": "[encoded data removed]",
      "text/plain": [
       "<Figure size 432x288 with 1 Axes>"
      ]
     },
     "metadata": {
      "needs_background": "light"
     },
     "output_type": "display_data"
    }
   ],
   "source": [
    "# load file and plot it\n",
    "df = pd.read_csv('Book1.csv')\n",
    "plt.plot(df.X, df.Y, '.r');\n",
    "df"
   ]
  },
  {
   "cell_type": "markdown",
   "metadata": {},
   "source": [
    "### Modules\n",
    "\n",
    "- Computation\n",
    "\n",
    "> [numpy](http://www.numpy.org/): arrays, vectorized functions, ...\n",
    "><br/>\n",
    "> [scipy](http://www.scipy.org/): stats, solvers, ...\n",
    "><br/>\n",
    "> [sklearn](http://scikit-learn.org/stable/index.html): machine learning, ...\n",
    "\n",
    "- Data \n",
    "\n",
    "> [pandas](http://pandas.pydata.org/pandas-docs/stable/10min.html): data structures, time series, ...\n",
    "\n",
    "- Plotting\n",
    "\n",
    "> [matplotlib](http://matplotlib.org/index.html): publication quality figures, animations, ...\n",
    "><br/>\n",
    "> [seaborn](http://seaborn.pydata.org/): statistical data visualization\n",
    "\n"
   ]
  },
  {
   "cell_type": "code",
   "execution_count": 18,
   "metadata": {},
   "outputs": [
    {
     "data": {
      "image/png": "[encoded data removed]",
      "text/plain": [
       "<Figure size 432x288 with 1 Axes>"
      ]
     },
     "metadata": {
      "needs_background": "light"
     },
     "output_type": "display_data"
    }
   ],
   "source": [
    "df.index = df.X\n",
    "df.Y.plot();"
   ]
  },
  {
   "cell_type": "code",
   "execution_count": 19,
   "metadata": {},
   "outputs": [
    {
     "name": "stdout",
     "output_type": "stream",
     "text": [
      "[10.5 11.5]\n"
     ]
    }
   ],
   "source": [
    "# least-squares fitting w/ scikit-learn\n",
    "from sklearn import linear_model\n",
    "lr = linear_model.LinearRegression()\n",
    "lr.fit([[0],[1],[2]], [10,11,12]);\n",
    "print (lr.predict([[0.5],[1.5]]))"
   ]
  }
 ],
 "metadata": {
  "anaconda-cloud": {},
  "kernelspec": {
   "display_name": "Python 3",
   "language": "python",
   "name": "python3"
  },
  "language_info": {
   "codemirror_mode": {
    "name": "ipython",
    "version": 3
   },
   "file_extension": ".py",
   "mimetype": "text/x-python",
   "name": "python",
   "nbconvert_exporter": "python",
   "pygments_lexer": "ipython3",
   "version": "3.7.3"
  }
 },
 "nbformat": 4,
 "nbformat_minor": 1
}
